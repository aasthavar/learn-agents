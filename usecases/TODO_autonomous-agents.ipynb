{
 "cells": [
  {
   "cell_type": "markdown",
   "metadata": {},
   "source": [
    "- Langchain equivalent docs code: https://api.python.langchain.com/en/latest/experimental_api_reference.html#module-langchain_experimental.autonomous_agents\n",
    "    1. AutoGPT - https://github.com/Significant-Gravitas/AutoGPT\n",
    "    2. BabyAGI - https://github.com/yoheinakajima/babyagi\n",
    "    3. HuggingGPT - https://arxiv.org/abs/2303.17580\n",
    "\n",
    "- Generative Agents - https://api.python.langchain.com/en/latest/experimental_api_reference.html#module-langchain_experimental.generative_agents\n",
    "\n",
    "- CPAL - https://api.python.langchain.com/en/latest/experimental_api_reference.html#module-langchain_experimental.cpal\n",
    "\n"
   ]
  },
  {
   "cell_type": "code",
   "execution_count": null,
   "metadata": {},
   "outputs": [],
   "source": []
  }
 ],
 "metadata": {
  "language_info": {
   "name": "python"
  }
 },
 "nbformat": 4,
 "nbformat_minor": 2
}
