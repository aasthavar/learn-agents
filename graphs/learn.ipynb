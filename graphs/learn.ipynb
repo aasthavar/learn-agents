{
 "cells": [
  {
   "cell_type": "markdown",
   "metadata": {},
   "source": [
    "Resources:\n",
    "1. [Using a Knowledge Graph to implement a DevOps RAG application](https://blog.langchain.dev/using-a-knowledge-graph-to-implement-a-devops-rag-application/)\n",
    "2. [Implementing advanced RAG strategies with Neo4j](https://blog.langchain.dev/implementing-advanced-retrieval-rag-strategies-with-neo4j/)\n",
    "3. [Langchain docs - Neo4j DB QA chain](https://python.langchain.com/docs/use_cases/graph/integrations/graph_cypher_qa?ref=blog.langchain.dev)\n",
    "4. [LangChain Cypher Search: Tips & Tricks](https://medium.com/neo4j/langchain-cypher-search-tips-tricks-f7c9e9abca4d)\n",
    "5. [Conversational knowledge graphs](https://python.langchain.com/docs/modules/memory/types/kg)\n",
    "6. [Constructing knowledge graphs](https://python.langchain.com/docs/use_cases/graph/constructing)\n",
    "7. [Github - Neo4j advanced rag template](https://github.com/langchain-ai/langchain/tree/master/templates/neo4j-advanced-rag)"
   ]
  },
  {
   "cell_type": "code",
   "execution_count": 2,
   "metadata": {},
   "outputs": [
    {
     "name": "stderr",
     "output_type": "stream",
     "text": [
      "UsageError: Line magic function `%status` not found.\n"
     ]
    }
   ],
   "source": [
    "%status"
   ]
  },
  {
   "cell_type": "code",
   "execution_count": 4,
   "metadata": {},
   "outputs": [
    {
     "name": "stdout",
     "output_type": "stream",
     "text": [
      "\u001b[33mWARNING: Ignoring invalid distribution -ackaging (/opt/conda/envs/pytorch/lib/python3.10/site-packages)\u001b[0m\u001b[33m\n",
      "\u001b[0m\u001b[33mWARNING: Ignoring invalid distribution -ackaging (/opt/conda/envs/pytorch/lib/python3.10/site-packages)\u001b[0m\u001b[33m\n",
      "\u001b[0m"
     ]
    }
   ],
   "source": [
    "! pip install graph-notebook --quiet"
   ]
  },
  {
   "cell_type": "code",
   "execution_count": 8,
   "metadata": {},
   "outputs": [
    {
     "name": "stdout",
     "output_type": "stream",
     "text": [
      "Copying 02-Identifying-1st-Person-Synthetic-Identity-Fraud-Using-Graph-Similarity.ipynb to /home/ubuntu/notebook/destination/dir/01-Neptune-Database/03-Sample-Applications/06-Data-Science-Samples\n",
      "Copying 01-Identifying-Fraud-Rings-Using-Social-Network-Analytics.ipynb to /home/ubuntu/notebook/destination/dir/01-Neptune-Database/03-Sample-Applications/06-Data-Science-Samples\n",
      "Copying 03-Logistics-Analysis-using-a-Transportation-Network.ipynb to /home/ubuntu/notebook/destination/dir/01-Neptune-Database/03-Sample-Applications/06-Data-Science-Samples\n",
      "Copying Building-a-Knowledge-Graph-Application-openCypher.ipynb to /home/ubuntu/notebook/destination/dir/01-Neptune-Database/03-Sample-Applications/02-Knowledge-Graphs\n",
      "Copying Building-a-Knowledge-Graph-Application-Gremlin.ipynb to /home/ubuntu/notebook/destination/dir/01-Neptune-Database/03-Sample-Applications/02-Knowledge-Graphs\n",
      "Copying 01-Building-a-Fraud-Graph-Application.ipynb to /home/ubuntu/notebook/destination/dir/01-Neptune-Database/03-Sample-Applications/01-Fraud-Graphs\n",
      "Copying 01-Modeling-Molecular-Structures-as-Graph-Data-Gremlin.ipynb to /home/ubuntu/notebook/destination/dir/01-Neptune-Database/03-Sample-Applications/05-Healthcare-and-Life-Sciences-Graphs\n",
      "Copying 01-Building-a-Security-Graph-Application-with-openCypher.ipynb to /home/ubuntu/notebook/destination/dir/01-Neptune-Database/03-Sample-Applications/04-Security-Graphs\n",
      "Copying 01-Building-a-Security-Graph-Application-with-Gremlin.ipynb to /home/ubuntu/notebook/destination/dir/01-Neptune-Database/03-Sample-Applications/04-Security-Graphs\n",
      "Copying 00-Sample-Applications-Overview.ipynb to /home/ubuntu/notebook/destination/dir/01-Neptune-Database/03-Sample-Applications\n",
      "Copying 02-Data-Modeling-for-Identity-Graphs.ipynb to /home/ubuntu/notebook/destination/dir/01-Neptune-Database/03-Sample-Applications/03-Identity-Graphs\n",
      "Copying 01-Building-an-Identity-Graph-Application.ipynb to /home/ubuntu/notebook/destination/dir/01-Neptune-Database/03-Sample-Applications/03-Identity-Graphs\n",
      "Copying 03-Jumpstart-Identity-Graphs-Using-Canonical-Model-and-ETL.ipynb to /home/ubuntu/notebook/destination/dir/01-Neptune-Database/03-Sample-Applications/03-Identity-Graphs/03-Jumpstart-Identity-Graphs-Using-Canonical-Model-and-ETL\n",
      "Copying glue_utils.py to /home/ubuntu/notebook/destination/dir/01-Neptune-Database/03-Sample-Applications/03-Identity-Graphs/03-Jumpstart-Identity-Graphs-Using-Canonical-Model-and-ETL\n",
      "Copying README.md to /home/ubuntu/notebook/destination/dir/01-Neptune-Database/03-Sample-Applications\n",
      "Copying Blog Workbench Visualization.ipynb to /home/ubuntu/notebook/destination/dir/01-Neptune-Database/02-Visualization\n",
      "Copying EPL-SPARQL.ipynb to /home/ubuntu/notebook/destination/dir/01-Neptune-Database/02-Visualization\n",
      "Copying Air-Routes-Gremlin.ipynb to /home/ubuntu/notebook/destination/dir/01-Neptune-Database/02-Visualization\n",
      "Copying Air-Routes-openCypher.ipynb to /home/ubuntu/notebook/destination/dir/01-Neptune-Database/02-Visualization\n",
      "Copying EPL-openCypher.ipynb to /home/ubuntu/notebook/destination/dir/01-Neptune-Database/02-Visualization\n",
      "Copying Air-Routes-SPARQL.ipynb to /home/ubuntu/notebook/destination/dir/01-Neptune-Database/02-Visualization\n",
      "Copying EPL-Gremlin.ipynb to /home/ubuntu/notebook/destination/dir/01-Neptune-Database/02-Visualization\n",
      "Copying Grouping-and-Appearance-Customization-Gremlin.ipynb to /home/ubuntu/notebook/destination/dir/01-Neptune-Database/02-Visualization\n",
      "Copying 01-About-the-Neptune-Notebook.ipynb to /home/ubuntu/notebook/destination/dir/01-Neptune-Database/01-Getting-Started\n",
      "Copying 02-Using-Gremlin-to-Access-the-Graph.ipynb to /home/ubuntu/notebook/destination/dir/01-Neptune-Database/01-Getting-Started\n",
      "Copying 03-Using-RDF-and-SPARQL-to-Access-the-Graph.ipynb to /home/ubuntu/notebook/destination/dir/01-Neptune-Database/01-Getting-Started\n",
      "Copying 05-Dining-By-Friends-in-Amazon-Neptune.ipynb to /home/ubuntu/notebook/destination/dir/01-Neptune-Database/01-Getting-Started\n",
      "Copying 04-Social-Network-Recommendations-with-Gremlin.ipynb to /home/ubuntu/notebook/destination/dir/01-Neptune-Database/01-Getting-Started\n",
      "Copying About-the-Neptune-Notebook.ipynb to /home/ubuntu/notebook/destination/dir\n",
      "Copying 02-Loops-Repeats.ipynb to /home/ubuntu/notebook/destination/dir/04-Language-Tutorials/01-Gremlin\n",
      "Copying Gremlin-Exercises-Answer-Sheet.ipynb to /home/ubuntu/notebook/destination/dir/04-Language-Tutorials/01-Gremlin\n",
      "Copying 01-Basic-Read-Queries.ipynb to /home/ubuntu/notebook/destination/dir/04-Language-Tutorials/01-Gremlin\n",
      "Copying 03-Ordering-Functions-Grouping.ipynb to /home/ubuntu/notebook/destination/dir/04-Language-Tutorials/01-Gremlin\n",
      "Copying 04-Creating-Updating-Deleting-Queries.ipynb to /home/ubuntu/notebook/destination/dir/04-Language-Tutorials/01-Gremlin\n",
      "Copying 01-SPARQL-Basics.ipynb to /home/ubuntu/notebook/destination/dir/04-Language-Tutorials/03-SPARQL\n",
      "Copying 01-Basic-Read-Queries.ipynb to /home/ubuntu/notebook/destination/dir/04-Language-Tutorials/02-openCypher\n",
      "Copying 02-Variable-Length-Paths.ipynb to /home/ubuntu/notebook/destination/dir/04-Language-Tutorials/02-openCypher\n",
      "Copying openCypher-Exercises-Answer-Key.ipynb to /home/ubuntu/notebook/destination/dir/04-Language-Tutorials/02-openCypher\n",
      "Copying 03-Ordering-Functions-Grouping.ipynb to /home/ubuntu/notebook/destination/dir/04-Language-Tutorials/02-openCypher\n",
      "Copying 04-Creating-Updating-Delete-Queries.ipynb to /home/ubuntu/notebook/destination/dir/04-Language-Tutorials/02-openCypher\n",
      "Copying Overview.ipynb to /home/ubuntu/notebook/destination/dir\n",
      "Copying 04-Introduction-to-Link-Prediction-Gremlin.ipynb to /home/ubuntu/notebook/destination/dir/03-Neptune-ML/01-Gremlin\n",
      "Copying 01-Getting-Started-with-Neptune-ML-Gremlin.ipynb to /home/ubuntu/notebook/destination/dir/03-Neptune-ML/01-Gremlin\n",
      "Copying 05-Introduction-to-Edge-Classification-Gremlin.ipynb to /home/ubuntu/notebook/destination/dir/03-Neptune-ML/01-Gremlin\n",
      "Copying 03-Introduction-to-Node-Regression-Gremlin.ipynb to /home/ubuntu/notebook/destination/dir/03-Neptune-ML/01-Gremlin\n",
      "Copying 02-Introduction-to-Node-Classification-Gremlin.ipynb to /home/ubuntu/notebook/destination/dir/03-Neptune-ML/01-Gremlin\n",
      "Copying 06-Introduction-to-Edge-Regression-Gremlin.ipynb to /home/ubuntu/notebook/destination/dir/03-Neptune-ML/01-Gremlin\n",
      "Copying neptune_ml_utils.py to /home/ubuntu/notebook/destination/dir/03-Neptune-ML\n",
      "Copying 02-Job-Recommendation-Text-Encoding.ipynb to /home/ubuntu/notebook/destination/dir/03-Neptune-ML/03-Sample-Applications\n",
      "Copying People-Analytics-using-Neptune-ML.ipynb to /home/ubuntu/notebook/destination/dir/03-Neptune-ML/03-Sample-Applications/01-People-Analytics\n",
      "Copying 03-Real-Time-Fraud-Detection-Using-Inductive-Inference.ipynb to /home/ubuntu/notebook/destination/dir/03-Neptune-ML/03-Sample-Applications\n",
      "Copying Neptune-ML-00-Getting-Started-with-Neptune-ML-SPARQL.ipynb to /home/ubuntu/notebook/destination/dir/03-Neptune-ML/02-SPARQL\n",
      "Copying Neptune-ML-03-Introduction-to-Link-Prediction-SPARQL.ipynb to /home/ubuntu/notebook/destination/dir/03-Neptune-ML/02-SPARQL\n",
      "Copying Neptune-ML-01-Introduction-to-Object-Classification-SPARQL.ipynb to /home/ubuntu/notebook/destination/dir/03-Neptune-ML/02-SPARQL\n",
      "Copying Neptune-ML-02-Introduction-to-Object-Regression-SPARQL.ipynb to /home/ubuntu/notebook/destination/dir/03-Neptune-ML/02-SPARQL\n",
      "Copying neptune-ml-pretrained-rdf-model-config.json to /home/ubuntu/notebook/destination/dir/03-Neptune-ML/02-SPARQL\n",
      "Copying neptune_ml_sparql_utils.py to /home/ubuntu/notebook/destination/dir/03-Neptune-ML/02-SPARQL\n",
      "Copying neptune-ml-pretrained-model-config.json to /home/ubuntu/notebook/destination/dir/03-Neptune-ML\n",
      "Copying 05-Similarity-Algorithms.ipynb to /home/ubuntu/notebook/destination/dir/02-Neptune-Analytics/02-Graph-Algorithms\n",
      "Copying 02-Path-Finding-Algorithms.ipynb to /home/ubuntu/notebook/destination/dir/02-Neptune-Analytics/02-Graph-Algorithms\n",
      "Copying 01-Getting-Started-With-Graph-Algorithms.ipynb to /home/ubuntu/notebook/destination/dir/02-Neptune-Analytics/02-Graph-Algorithms\n",
      "Copying 04-Community-Detection-Algorithms.ipynb to /home/ubuntu/notebook/destination/dir/02-Neptune-Analytics/02-Graph-Algorithms\n",
      "Copying 06-Vector-Similarity-Algorithms.ipynb to /home/ubuntu/notebook/destination/dir/02-Neptune-Analytics/02-Graph-Algorithms\n",
      "Copying 03-Centrality-Algorithms.ipynb to /home/ubuntu/notebook/destination/dir/02-Neptune-Analytics/02-Graph-Algorithms\n",
      "Copying Overview.ipynb to /home/ubuntu/notebook/destination/dir/02-Neptune-Analytics/03-Sample-Use-Cases\n",
      "Copying 01-Fraud-Ring-Identifcation.ipynb to /home/ubuntu/notebook/destination/dir/02-Neptune-Analytics/03-Sample-Use-Cases/01-FinTech\n",
      "Copying 01-EDGAR-Competitior-Analysis-using-Knowledge-Graph-Graph-Algorithms-and-Vector-Search.ipynb to /home/ubuntu/notebook/destination/dir/02-Neptune-Analytics/03-Sample-Use-Cases/02-Investment-Analysis\n",
      "Copying 01-Getting-Started-With-Neptune-Analytics.ipynb to /home/ubuntu/notebook/destination/dir/02-Neptune-Analytics/01-Getting-Started\n"
     ]
    }
   ],
   "source": [
    "! python -m graph_notebook.notebooks.install --destination ~/notebook/destination/dir"
   ]
  },
  {
   "cell_type": "code",
   "execution_count": 9,
   "metadata": {},
   "outputs": [
    {
     "name": "stdout",
     "output_type": "stream",
     "text": [
      "\u001b[33m[W 2024-03-28 04:49:34.208 ServerApp]\u001b[m A `_jupyter_server_extension_points` function was not found in nbclassic. Instead, a `_jupyter_server_extension_paths` function was found and will be used for now. This function name will be deprecated in future releases of Jupyter Server.\n",
      "\u001b[33m[W 2024-03-28 04:49:34.208 ServerApp]\u001b[m A `_jupyter_server_extension_points` function was not found in notebook_shim. Instead, a `_jupyter_server_extension_paths` function was found and will be used for now. This function name will be deprecated in future releases of Jupyter Server.\n",
      "\u001b[32m[I 2024-03-28 04:49:34.210 ServerApp]\u001b[m jupyter_lsp | extension was successfully linked.\n",
      "\u001b[32m[I 2024-03-28 04:49:34.214 ServerApp]\u001b[m jupyter_server_terminals | extension was successfully linked.\n",
      "\u001b[32m[I 2024-03-28 04:49:34.219 ServerApp]\u001b[m jupyterlab | extension was successfully linked.\n",
      "\u001b[32m[I 2024-03-28 04:49:34.222 ServerApp]\u001b[m nbclassic | extension was successfully linked.\n",
      "\u001b[32m[I 2024-03-28 04:49:34.223 ServerApp]\u001b[m Writing Jupyter server cookie secret to /home/ubuntu/.local/share/jupyter/runtime/jupyter_cookie_secret\n",
      "\u001b[32m[I 2024-03-28 04:49:34.598 ServerApp]\u001b[m Extension package jupyter_nbextensions_configurator took 0.1733s to import\n",
      "\u001b[33m[W 2024-03-28 04:49:34.598 ServerApp]\u001b[m A `_jupyter_server_extension_points` function was not found in jupyter_nbextensions_configurator. Instead, a `_jupyter_server_extension_paths` function was found and will be used for now. This function name will be deprecated in future releases of Jupyter Server.\n",
      "\u001b[32m[I 2024-03-28 04:49:34.598 ServerApp]\u001b[m jupyter_nbextensions_configurator | extension was found and enabled by notebook_shim. Consider moving the extension to Jupyter Server's extension paths.\n",
      "\u001b[32m[I 2024-03-28 04:49:34.598 ServerApp]\u001b[m jupyter_nbextensions_configurator | extension was successfully linked.\n",
      "\u001b[32m[I 2024-03-28 04:49:34.599 ServerApp]\u001b[m notebook_shim | extension was successfully linked.\n",
      "\u001b[32m[I 2024-03-28 04:49:34.628 ServerApp]\u001b[m notebook_shim | extension was successfully loaded.\n",
      "\u001b[32m[I 2024-03-28 04:49:34.630 ServerApp]\u001b[m jupyter_lsp | extension was successfully loaded.\n",
      "\u001b[32m[I 2024-03-28 04:49:34.630 ServerApp]\u001b[m [jupyter_nbextensions_configurator] enabled 0.6.3\n",
      "\u001b[32m[I 2024-03-28 04:49:34.630 ServerApp]\u001b[m jupyter_nbextensions_configurator | extension was successfully loaded.\n",
      "\u001b[32m[I 2024-03-28 04:49:34.631 ServerApp]\u001b[m jupyter_server_terminals | extension was successfully loaded.\n",
      "\u001b[32m[I 2024-03-28 04:49:34.633 LabApp]\u001b[m JupyterLab extension loaded from /opt/conda/envs/pytorch/lib/python3.10/site-packages/jupyterlab\n",
      "\u001b[32m[I 2024-03-28 04:49:34.633 LabApp]\u001b[m JupyterLab application directory is /opt/conda/envs/pytorch/share/jupyter/lab\n",
      "\u001b[32m[I 2024-03-28 04:49:34.634 LabApp]\u001b[m Extension Manager is 'pypi'.\n",
      "\u001b[32m[I 2024-03-28 04:49:34.637 ServerApp]\u001b[m jupyterlab | extension was successfully loaded.\n",
      "\n",
      "  _   _          _      _\n",
      " | | | |_ __  __| |__ _| |_ ___\n",
      " | |_| | '_ \\/ _` / _` |  _/ -_)\n",
      "  \\___/| .__/\\__,_\\__,_|\\__\\___|\n",
      "       |_|\n",
      "                                                                           \n",
      "Read the migration plan to Notebook 7 to learn about the new features and the actions to take if you are using extensions.\n",
      "\n",
      "https://jupyter-notebook.readthedocs.io/en/latest/migrate_to_notebook7.html\n",
      "\n",
      "Please note that updating to Notebook 7 might break some of your extensions.\n",
      "\n",
      "\u001b[32m[I 2024-03-28 04:49:34.642 ServerApp]\u001b[m nbclassic | extension was successfully loaded.\n",
      "\u001b[32m[I 2024-03-28 04:49:34.642 ServerApp]\u001b[m Serving notebooks from local directory: /home/ubuntu/notebook/destination/dir\n",
      "\u001b[32m[I 2024-03-28 04:49:34.642 ServerApp]\u001b[m Jupyter Server 2.12.5 is running at:\n",
      "\u001b[32m[I 2024-03-28 04:49:34.642 ServerApp]\u001b[m http://localhost:8888/lab?token=0c8db2c990b3380c050806f543631b1d272b8a6fc5cba831\n",
      "\u001b[32m[I 2024-03-28 04:49:34.642 ServerApp]\u001b[m     http://127.0.0.1:8888/lab?token=0c8db2c990b3380c050806f543631b1d272b8a6fc5cba831\n",
      "\u001b[32m[I 2024-03-28 04:49:34.643 ServerApp]\u001b[m Use Control-C to stop this server and shut down all kernels (twice to skip confirmation).\n",
      "\u001b[35m[C 2024-03-28 04:49:34.647 ServerApp]\u001b[m \n",
      "    \n",
      "    To access the server, open this file in a browser:\n",
      "        file:///home/ubuntu/.local/share/jupyter/runtime/jpserver-322821-open.html\n",
      "    Or copy and paste one of these URLs:\n",
      "        http://localhost:8888/lab?token=0c8db2c990b3380c050806f543631b1d272b8a6fc5cba831\n",
      "        http://127.0.0.1:8888/lab?token=0c8db2c990b3380c050806f543631b1d272b8a6fc5cba831\n",
      "\u001b[32m[I 2024-03-28 04:49:34.679 ServerApp]\u001b[m Skipped non-installed server(s): bash-language-server, dockerfile-language-server-nodejs, javascript-typescript-langserver, jedi-language-server, julia-language-server, pyright, python-language-server, python-lsp-server, r-languageserver, sql-language-server, texlab, typescript-language-server, unified-language-server, vscode-css-languageserver-bin, vscode-html-languageserver-bin, vscode-json-languageserver-bin, yaml-language-server\n",
      "^C\n",
      "\u001b[32m[I 2024-03-28 04:49:45.860 ServerApp]\u001b[m interrupted\n",
      "\u001b[32m[I 2024-03-28 04:49:45.861 ServerApp]\u001b[m Serving notebooks from local directory: /home/ubuntu/notebook/destination/dir\n",
      "    0 active kernels\n",
      "    Jupyter Server 2.12.5 is running at:\n",
      "    http://localhost:8888/lab?token=0c8db2c990b3380c050806f543631b1d272b8a6fc5cba831\n",
      "        http://127.0.0.1:8888/lab?token=0c8db2c990b3380c050806f543631b1d272b8a6fc5cba831\n",
      "Shutdown this Jupyter server (y/[n])? \u001b[32m[I 2024-03-28 04:49:45.861 ServerApp]\u001b[m resuming operation...\n"
     ]
    }
   ],
   "source": [
    "! python -m graph_notebook.start_jupyterlab --jupyter-dir ~/notebook/destination/dir"
   ]
  },
  {
   "cell_type": "code",
   "execution_count": 10,
   "metadata": {},
   "outputs": [
    {
     "name": "stdout",
     "output_type": "stream",
     "text": [
      "Could not find a valid configuration. Do not forget to validate your settings using %graph_notebook_config.\n"
     ]
    }
   ],
   "source": [
    "%load_ext graph_notebook.magics"
   ]
  },
  {
   "cell_type": "code",
   "execution_count": 13,
   "metadata": {},
   "outputs": [
    {
     "name": "stdout",
     "output_type": "stream",
     "text": [
      "{\n",
      "  \"host\": \"change-me\",\n",
      "  \"port\": 8182,\n",
      "  \"proxy_host\": \"\",\n",
      "  \"proxy_port\": 8182,\n",
      "  \"ssl\": true,\n",
      "  \"ssl_verify\": true,\n",
      "  \"sparql\": {\n",
      "    \"path\": \"sparql\"\n",
      "  },\n",
      "  \"gremlin\": {\n",
      "    \"traversal_source\": \"g\",\n",
      "    \"username\": \"\",\n",
      "    \"password\": \"\",\n",
      "    \"message_serializer\": \"graphsonv3\"\n",
      "  },\n",
      "  \"neo4j\": {\n",
      "    \"username\": \"neo4j\",\n",
      "    \"password\": \"password\",\n",
      "    \"auth\": true,\n",
      "    \"database\": null\n",
      "  }\n",
      "}\n"
     ]
    },
    {
     "data": {
      "text/plain": [
       "<graph_notebook.configuration.generate_config.Configuration at 0x7feb883474c0>"
      ]
     },
     "execution_count": 13,
     "metadata": {},
     "output_type": "execute_result"
    }
   ],
   "source": [
    "%graph_notebook_config\n",
    "\n",
    "\n",
    "# {\n",
    "#   \"host\": \"change-me\",\n",
    "#   \"port\": 8182,\n",
    "#   \"proxy_host\": \"\",\n",
    "#   \"proxy_port\": 8182,\n",
    "#   \"ssl\": true,\n",
    "#   \"ssl_verify\": true,\n",
    "#   \"sparql\": {\n",
    "#     \"path\": \"sparql\"\n",
    "#   },\n",
    "#   \"gremlin\": {\n",
    "#     \"traversal_source\": \"g\",\n",
    "#     \"username\": \"\",\n",
    "#     \"password\": \"\",\n",
    "#     \"message_serializer\": \"graphsonv3\"\n",
    "#   },\n",
    "#   \"neo4j\": {\n",
    "#     \"username\": \"neo4j\",\n",
    "#     \"password\": \"password\",\n",
    "#     \"auth\": true,\n",
    "#     \"database\": null\n",
    "#   }\n",
    "# }\n"
   ]
  },
  {
   "cell_type": "code",
   "execution_count": 24,
   "metadata": {},
   "outputs": [
    {
     "name": "stdout",
     "output_type": "stream",
     "text": [
      "set notebook config to:\n",
      "{\n",
      "  \"host\": \"agi-research.cluster-c8uq88okovco.us-east-1.neptune.amazonaws.com\",\n",
      "  \"neptune_service\": \"neptune-db\",\n",
      "  \"port\": 8182,\n",
      "  \"proxy_host\": \"\",\n",
      "  \"proxy_port\": 8182,\n",
      "  \"auth_mode\": \"DEFAULT\",\n",
      "  \"load_from_s3_arn\": \"\",\n",
      "  \"ssl\": true,\n",
      "  \"ssl_verify\": true,\n",
      "  \"aws_region\": \"us-east-1\",\n",
      "  \"sparql\": {\n",
      "    \"path\": \"\"\n",
      "  },\n",
      "  \"gremlin\": {\n",
      "    \"traversal_source\": \"g\",\n",
      "    \"username\": \"\",\n",
      "    \"password\": \"\",\n",
      "    \"message_serializer\": \"graphsonv3\"\n",
      "  },\n",
      "  \"neo4j\": {\n",
      "    \"username\": \"neo4j\",\n",
      "    \"password\": \"password\",\n",
      "    \"auth\": true,\n",
      "    \"database\": null\n",
      "  }\n",
      "}\n"
     ]
    },
    {
     "data": {
      "text/plain": [
       "<graph_notebook.configuration.generate_config.Configuration at 0x7feb88347610>"
      ]
     },
     "execution_count": 24,
     "metadata": {},
     "output_type": "execute_result"
    }
   ],
   "source": [
    "%%graph_notebook_config\n",
    "{\n",
    "  \"host\": \"agi-research.cluster-c8uq88okovco.us-east-1.neptune.amazonaws.com\",\n",
    "  \"neptune_service\": \"neptune-db\",\n",
    "  \"port\": 8182,\n",
    "  \"proxy_host\": \"\",\n",
    "  \"proxy_port\": 8182,\n",
    "  \"auth_mode\": \"DEFAULT\",\n",
    "  \"load_from_s3_arn\": \"\",\n",
    "  \"ssl\": true,\n",
    "  \"ssl_verify\": true,\n",
    "  \"aws_region\": \"us-east-1\"\n",
    "}"
   ]
  },
  {
   "cell_type": "code",
   "execution_count": 26,
   "metadata": {},
   "outputs": [
    {
     "name": "stdout",
     "output_type": "stream",
     "text": [
      "Keyboard interrupt detected.\n"
     ]
    }
   ],
   "source": [
    "%status"
   ]
  },
  {
   "cell_type": "code",
   "execution_count": null,
   "metadata": {},
   "outputs": [],
   "source": []
  }
 ],
 "metadata": {
  "kernelspec": {
   "display_name": "pytorch",
   "language": "python",
   "name": "python3"
  },
  "language_info": {
   "codemirror_mode": {
    "name": "ipython",
    "version": 3
   },
   "file_extension": ".py",
   "mimetype": "text/x-python",
   "name": "python",
   "nbconvert_exporter": "python",
   "pygments_lexer": "ipython3",
   "version": "3.10.13"
  }
 },
 "nbformat": 4,
 "nbformat_minor": 2
}
