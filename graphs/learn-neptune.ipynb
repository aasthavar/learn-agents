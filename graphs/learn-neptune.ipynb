{
 "cells": [
  {
   "cell_type": "markdown",
   "id": "8c379fd6-352a-45cf-b6cb-fbca4a2884d9",
   "metadata": {
    "tags": []
   },
   "source": [
    "Amazon Neptune\n",
    "---\n",
    "- graph database\n",
    "- graph analytics engine\n",
    "- graph machine learning + libraries & tools to store and analyze highly connected datasets\n",
    "\n",
    "**usage (relevant to me)**\n",
    "- perform vss(vector similarity search) on dense representations provided by embeddings \n",
    "and combine these results with contextually aware data representations of graphs.\n",
    "\n",
    "**tools**\n",
    "- Neptune Notebooks - do normal jupyter stuff + load and interact with data & graph\n",
    "- Neptune Graph Explorer\n",
    "- Neptune Developer tools\n",
    "- Neptune Connectors"
   ]
  },
  {
   "cell_type": "markdown",
   "id": "f448727e-6ab9-4c9e-9fc5-d08054198ae0",
   "metadata": {},
   "source": [
    "**cell 'magic' extensions**\n",
    "- `%%opencypher` or `%%oc`: execute an opencypher query against db\n",
    "- `%%graph_notebook_config`: sets nb's db configuration to input JSON payload\n",
    "- `%%neptune_ml`: sets of commands to integrate with NeptuneML\n",
    "\n",
    "**line 'magic' extensions**\n",
    "- `%opencypher_status` or `%oc_status`: status of opencypher queries\n",
    "- `%load`: generate a form to submit a bulk loader job\n",
    "- `%status`: health status of configured host endpoint\n",
    "- `%seed`: provides a form to add data to graph without the use of a bulk loader."
   ]
  },
  {
   "cell_type": "markdown",
   "id": "2abcecdc-3b40-4741-83ce-337b0f2bac7a",
   "metadata": {
    "jp-MarkdownHeadingCollapsed": true,
    "tags": []
   },
   "source": [
    "## check magic extensions"
   ]
  },
  {
   "cell_type": "code",
   "execution_count": 2,
   "id": "90977616-7d02-44f5-a827-df10b93584a1",
   "metadata": {
    "tags": []
   },
   "outputs": [
    {
     "name": "stdout",
     "output_type": "stream",
     "text": [
      "4.1.0\n"
     ]
    }
   ],
   "source": [
    "# note: must use python3 kernel only\n",
    "%graph_notebook_version"
   ]
  },
  {
   "cell_type": "code",
   "execution_count": 3,
   "id": "f187c137-9e81-4238-a8b1-e051595e6a1c",
   "metadata": {
    "tags": []
   },
   "outputs": [
    {
     "name": "stdout",
     "output_type": "stream",
     "text": [
      "{\n",
      "  \"host\": \"agi-research.cluster-c8uq88okovco.us-east-1.neptune.amazonaws.com\",\n",
      "  \"neptune_service\": \"neptune-db\",\n",
      "  \"port\": 8182,\n",
      "  \"proxy_host\": \"\",\n",
      "  \"proxy_port\": 8182,\n",
      "  \"auth_mode\": \"DEFAULT\",\n",
      "  \"load_from_s3_arn\": \"\",\n",
      "  \"ssl\": true,\n",
      "  \"ssl_verify\": true,\n",
      "  \"aws_region\": \"us-east-1\",\n",
      "  \"sparql\": {\n",
      "    \"path\": \"sparql\"\n",
      "  },\n",
      "  \"gremlin\": {\n",
      "    \"traversal_source\": \"g\",\n",
      "    \"username\": \"\",\n",
      "    \"password\": \"\",\n",
      "    \"message_serializer\": \"graphsonv3\"\n",
      "  },\n",
      "  \"neo4j\": {\n",
      "    \"username\": \"neo4j\",\n",
      "    \"password\": \"password\",\n",
      "    \"auth\": true,\n",
      "    \"database\": null\n",
      "  }\n",
      "}\n"
     ]
    },
    {
     "data": {
      "text/plain": [
       "<graph_notebook.configuration.generate_config.Configuration at 0x7f0cf65ad7b0>"
      ]
     },
     "execution_count": 3,
     "metadata": {},
     "output_type": "execute_result"
    }
   ],
   "source": [
    "%graph_notebook_config"
   ]
  },
  {
   "cell_type": "code",
   "execution_count": 4,
   "id": "92144807-74c1-4fd5-bc68-10d5c743f211",
   "metadata": {
    "tags": []
   },
   "outputs": [
    {
     "data": {
      "text/plain": [
       "{'status': 'healthy',\n",
       " 'startTime': 'Thu Mar 28 04:43:33 UTC 2024',\n",
       " 'dbEngineVersion': '1.3.1.0.R1',\n",
       " 'role': 'writer',\n",
       " 'dfeQueryEngine': 'viaQueryHint',\n",
       " 'gremlin': {'version': 'tinkerpop-3.6.4'},\n",
       " 'sparql': {'version': 'sparql-1.1'},\n",
       " 'opencypher': {'version': 'Neptune-9.0.20190305-1.0'},\n",
       " 'labMode': {'ObjectIndex': 'disabled',\n",
       "  'ReadWriteConflictDetection': 'enabled'},\n",
       " 'features': {'SlowQueryLogs': 'disabled',\n",
       "  'ResultCache': {'status': 'disabled'},\n",
       "  'IAMAuthentication': 'disabled',\n",
       "  'Streams': 'disabled',\n",
       "  'AuditLog': 'disabled'},\n",
       " 'settings': {'clusterQueryTimeoutInMs': '120000',\n",
       "  'SlowQueryLogsThreshold': '5000'},\n",
       " 'serverlessConfiguration': {'minCapacity': '1.0', 'maxCapacity': '20.0'}}"
      ]
     },
     "execution_count": 4,
     "metadata": {},
     "output_type": "execute_result"
    }
   ],
   "source": [
    "%status"
   ]
  },
  {
   "cell_type": "markdown",
   "id": "e50aa8c0-199e-4e13-99b3-c49ed6b4db0f",
   "metadata": {
    "tags": []
   },
   "source": [
    "## learning openCypher"
   ]
  },
  {
   "cell_type": "markdown",
   "id": "54355c1b-defc-4b74-9fce-055288d04517",
   "metadata": {
    "jp-MarkdownHeadingCollapsed": true,
    "tags": []
   },
   "source": [
    "### 1. basic-read-queries **paradigms**:\n",
    "- find\n",
    "- filter\n",
    "- format"
   ]
  },
  {
   "cell_type": "code",
   "execution_count": 5,
   "id": "db5ea4e5-c1c2-4dac-9251-4d0e86cc5da5",
   "metadata": {
    "tags": []
   },
   "outputs": [
    {
     "data": {
      "application/vnd.jupyter.widget-view+json": {
       "model_id": "df3cfbe4988a418b857a6faedfede62b",
       "version_major": 2,
       "version_minor": 0
      },
      "text/plain": [
       "Dropdown(description='Source type:', options=('', 'samples', 'custom'), style=DescriptionStyle(description_wid…"
      ]
     },
     "metadata": {},
     "output_type": "display_data"
    },
    {
     "data": {
      "application/vnd.jupyter.widget-view+json": {
       "model_id": "6cf8668782424783af999ec896e79fad",
       "version_major": 2,
       "version_minor": 0
      },
      "text/plain": [
       "Dropdown(description='Data model:', layout=Layout(display='none', visibility='hidden'), options=('', 'property…"
      ]
     },
     "metadata": {},
     "output_type": "display_data"
    },
    {
     "data": {
      "application/vnd.jupyter.widget-view+json": {
       "model_id": "b24a3bb8e13a4ca19de242bd37c75203",
       "version_major": 2,
       "version_minor": 0
      },
      "text/plain": [
       "Dropdown(description='Language:', layout=Layout(display='none', visibility='hidden'), options=('', 'opencypher…"
      ]
     },
     "metadata": {},
     "output_type": "display_data"
    },
    {
     "data": {
      "application/vnd.jupyter.widget-view+json": {
       "model_id": "9789f1a6249f44ee805cd79ee60e845e",
       "version_major": 2,
       "version_minor": 0
      },
      "text/plain": [
       "Dropdown(description='Language:', layout=Layout(display='none', visibility='hidden'), options=('', 'opencypher…"
      ]
     },
     "metadata": {},
     "output_type": "display_data"
    },
    {
     "data": {
      "application/vnd.jupyter.widget-view+json": {
       "model_id": "eaf4827e4f114bf6840623e179792d33",
       "version_major": 2,
       "version_minor": 0
      },
      "text/plain": [
       "Dropdown(description='Data set:', layout=Layout(display='none', visibility='hidden'), options=(), style=Descri…"
      ]
     },
     "metadata": {},
     "output_type": "display_data"
    },
    {
     "data": {
      "application/vnd.jupyter.widget-view+json": {
       "model_id": "de948b9983b1464881a02d99e6dde7a8",
       "version_major": 2,
       "version_minor": 0
      },
      "text/plain": [
       "Dropdown(description='Full File Query:', index=1, layout=Layout(display='none', visibility='hidden'), options=…"
      ]
     },
     "metadata": {},
     "output_type": "display_data"
    },
    {
     "data": {
      "application/vnd.jupyter.widget-view+json": {
       "model_id": "5697950715f8449aa0dd1c84d3a1c44d",
       "version_major": 2,
       "version_minor": 0
      },
      "text/plain": [
       "Dropdown(description='Location:', layout=Layout(display='none', visibility='hidden'), options=('Local', 'S3'),…"
      ]
     },
     "metadata": {},
     "output_type": "display_data"
    },
    {
     "data": {
      "application/vnd.jupyter.widget-view+json": {
       "model_id": "a6d9e37394e043d3acb983e1d71f1d35",
       "version_major": 2,
       "version_minor": 0
      },
      "text/plain": [
       "FileChooser(path='/home/ec2-user/SageMaker', filename='', title='', show_hidden=False, select_desc='Select', c…"
      ]
     },
     "metadata": {},
     "output_type": "display_data"
    },
    {
     "data": {
      "application/vnd.jupyter.widget-view+json": {
       "model_id": "823d872f4dae4e2cb80b83b0d3e96b90",
       "version_major": 2,
       "version_minor": 0
      },
      "text/plain": [
       "HBox(children=(Text(value='', description='Source:', placeholder='path/to/seedfiles/directory', style=Descript…"
      ]
     },
     "metadata": {},
     "output_type": "display_data"
    },
    {
     "data": {
      "application/vnd.jupyter.widget-view+json": {
       "model_id": "",
       "version_major": 2,
       "version_minor": 0
      },
      "text/plain": [
       "Button(description='Submit', layout=Layout(visibility='hidden'), style=ButtonStyle())"
      ]
     },
     "metadata": {},
     "output_type": "display_data"
    },
    {
     "data": {
      "application/vnd.jupyter.widget-view+json": {
       "model_id": "88380517d30b49c595fb5c5bb5a25ad1",
       "version_major": 2,
       "version_minor": 0
      },
      "text/plain": [
       "Output()"
      ]
     },
     "metadata": {},
     "output_type": "display_data"
    },
    {
     "data": {
      "application/vnd.jupyter.widget-view+json": {
       "model_id": "630dd870b0d74e8684eab885c495e3ed",
       "version_major": 2,
       "version_minor": 0
      },
      "text/plain": [
       "Output()"
      ]
     },
     "metadata": {},
     "output_type": "display_data"
    }
   ],
   "source": [
    "# load data - restaurant recommendation application\n",
    "%seed --model Property_Graph --dataset dining_by_friends --run"
   ]
  },
  {
   "cell_type": "markdown",
   "id": "3685c293-4906-41b7-8c42-7a8691068491",
   "metadata": {},
   "source": [
    "**graph**\n",
    "- nodes: review, restaurant, cuisine, person, state, city\n",
    "- edges: wrote, about, within, serves, friends, lives\n",
    "\n",
    "**dataset**\n",
    "- users\n",
    "    - their friends\n",
    "- restaurants\n",
    "    - city, state, cusinine# setup visualizations\n",
    "- reviews\n",
    "- ratings of reviews\n",
    "\n",
    "<table>\n",
    "    <tr><th colspan=3 style=\"text-align: center\">Element (Node/Edge) Counts</th>\n",
    "    </tr>\n",
    "<tr><td style=\"width:40%\">\n",
    "    \n",
    "|Node Label|Count|\n",
    "|:--|:--|\n",
    "|review|109|\n",
    "|restaurant|40|\n",
    "|cuisine|24|\n",
    "|person|8|\n",
    "|state|2|\n",
    "|city|2|\n",
    "    \n",
    "</td>\n",
    "    <td></td>\n",
    "    <td style=\"width:40%\">\n",
    "\n",
    "|Edge Label|Count|\n",
    "|:--|:--|\n",
    "|wrote|218|\n",
    "|about|218|\n",
    "|within|84|\n",
    "|serves|80|\n",
    "|friends|20|\n",
    "|lives|16|\n",
    "\n",
    "</td></tr> </table>\n",
    "\n",
    "This dataset represents a fictitious, but realistic, restaurant recommendation application that contains:\n",
    "\n",
    "* Users, represented by `person` nodes\n",
    "* Users connected to Users via `friends` edges\n",
    "* Restaurants and their associated information (`city`, `state`, `cusine`)\n",
    "* Reviews include the body and ratings\n",
    "* Ratings of reviews (helpful/not helpful)"
   ]
  },
  {
   "cell_type": "code",
   "execution_count": 15,
   "id": "46445b86-8f42-47e8-b674-d46c259f2a6f",
   "metadata": {
    "tags": []
   },
   "outputs": [],
   "source": [
    "# setup visualizations"
   ]
  },
  {
   "cell_type": "code",
   "execution_count": 14,
   "id": "c897a76a-36fd-4925-a823-6cdf110b3134",
   "metadata": {
    "collapsed": true,
    "jupyter": {
     "outputs_hidden": true
    },
    "tags": []
   },
   "outputs": [
    {
     "name": "stdout",
     "output_type": "stream",
     "text": [
      "Visualization settings successfully changed to:\n",
      "\n",
      "{\n",
      "  \"groups\": {\n",
      "    \"state\": {\n",
      "      \"color\": \"#dae8fc\"\n",
      "    },\n",
      "    \"review_ratings\": {\n",
      "      \"color\": \"#e1d5e7\"\n",
      "    },\n",
      "    \"review\": {\n",
      "      \"color\": \"#f8cecc\"\n",
      "    },\n",
      "    \"person\": {\n",
      "      \"color\": \"#9ac7bf\"\n",
      "    },\n",
      "    \"restaurant\": {\n",
      "      \"color\": \"#ffe6cc\"\n",
      "    },\n",
      "    \"cusine\": {\n",
      "      \"color\": \"#fff2cc\"\n",
      "    },\n",
      "    \"city\": {\n",
      "      \"color\": \"#d5e8d4\"\n",
      "    }\n",
      "  },\n",
      "  \"physics\": {\n",
      "    \"simulationDuration\": 1500,\n",
      "    \"disablePhysicsAfterInitialSimulation\": false,\n",
      "    \"minVelocity\": 0.75,\n",
      "    \"barnesHut\": {\n",
      "      \"centralGravity\": 0.1,\n",
      "      \"gravitationalConstant\": -50450,\n",
      "      \"springLength\": 95,\n",
      "      \"springConstant\": 0.04,\n",
      "      \"damping\": 0.09,\n",
      "      \"avoidOverlap\": 0.1\n",
      "    },\n",
      "    \"solver\": \"barnesHut\",\n",
      "    \"enabled\": true,\n",
      "    \"adaptiveTimestep\": true,\n",
      "    \"stabilization\": {\n",
      "      \"enabled\": true,\n",
      "      \"iterations\": 1\n",
      "    }\n",
      "  },\n",
      "  \"edges\": {\n",
      "    \"color\": {\n",
      "      \"inherit\": false\n",
      "    },\n",
      "    \"smooth\": {\n",
      "      \"enabled\": true,\n",
      "      \"type\": \"straightCross\"\n",
      "    },\n",
      "    \"arrows\": {\n",
      "      \"to\": {\n",
      "        \"enabled\": true,\n",
      "        \"type\": \"arrow\"\n",
      "      }\n",
      "    },\n",
      "    \"font\": {\n",
      "      \"face\": \"courier new\"\n",
      "    }\n",
      "  },\n",
      "  \"interaction\": {\n",
      "    \"hover\": true,\n",
      "    \"hoverConnectedEdges\": true,\n",
      "    \"selectConnectedEdges\": false\n",
      "  },\n",
      "  \"nodes\": {\n",
      "    \"borderWidthSelected\": 0,\n",
      "    \"borderWidth\": 0,\n",
      "    \"color\": {\n",
      "      \"background\": \"rgba(210, 229, 255, 1)\",\n",
      "      \"border\": \"transparent\",\n",
      "      \"highlight\": {\n",
      "        \"background\": \"rgba(9, 104, 178, 1)\",\n",
      "        \"border\": \"rgba(8, 62, 100, 1)\"\n",
      "      }\n",
      "    },\n",
      "    \"shadow\": {\n",
      "      \"enabled\": false\n",
      "    },\n",
      "    \"shape\": \"circle\",\n",
      "    \"widthConstraint\": {\n",
      "      \"minimum\": 70,\n",
      "      \"maximum\": 70\n",
      "    },\n",
      "    \"font\": {\n",
      "      \"face\": \"courier new\",\n",
      "      \"color\": \"black\",\n",
      "      \"size\": 12\n",
      "    }\n",
      "  }\n",
      "}\n"
     ]
    }
   ],
   "source": [
    "%%graph_notebook_vis_options\n",
    "{\n",
    "    \"groups\": {\n",
    "        \"person\": {\n",
    "            \"color\": \"#9ac7bf\"\n",
    "        },\n",
    "        \"review\": {\n",
    "            \"color\": \"#f8cecc\"\n",
    "        },\n",
    "        \"city\": {\n",
    "            \"color\": \"#d5e8d4\"\n",
    "        },\n",
    "        \"state\": {\n",
    "            \"color\": \"#dae8fc\"\n",
    "        },\n",
    "        \"review_ratings\": {\n",
    "            \"color\": \"#e1d5e7\"\n",
    "        },\n",
    "        \"restaurant\": {\n",
    "            \"color\": \"#ffe6cc\"\n",
    "        },\n",
    "        \"cusine\": {\n",
    "            \"color\": \"#fff2cc\"\n",
    "        }\n",
    "    }\n",
    "}"
   ]
  },
  {
   "cell_type": "code",
   "execution_count": 22,
   "id": "5c897ece-f426-4a57-8090-af7d46c01627",
   "metadata": {
    "tags": []
   },
   "outputs": [
    {
     "data": {
      "text/plain": [
       "'{\"person\": \"first_name\", \"city\": \"name\", \"state\": \"name\", \"restaurant\": \"name\", \"cusine\": \"name\"}'"
      ]
     },
     "execution_count": 22,
     "metadata": {},
     "output_type": "execute_result"
    }
   ],
   "source": [
    "import json\n",
    "node_labels_json = {\n",
    "    \"person\":\"first_name\",\n",
    "    \"city\":\"name\",\n",
    "    \"state\":\"name\",\n",
    "    \"restaurant\":\"name\",\n",
    "    \"cusine\":\"name\"\n",
    "}\n",
    "node_labels = json.dumps(node_labels_json)\n",
    "node_labels"
   ]
  },
  {
   "cell_type": "code",
   "execution_count": 24,
   "id": "e34ab76d-4421-4386-a5d0-17c03b692a30",
   "metadata": {
    "tags": []
   },
   "outputs": [
    {
     "data": {
      "text/plain": [
       "'{\"person\":\"first_name\",\"city\":\"name\",\"state\":\"name\",\"restaurant\":\"name\",\"cusine\":\"name\"}'"
      ]
     },
     "execution_count": 24,
     "metadata": {},
     "output_type": "execute_result"
    }
   ],
   "source": [
    "node_labels = '{\"person\":\"first_name\",\"city\":\"name\",\"state\":\"name\",\"restaurant\":\"name\",\"cusine\":\"name\"}'\n",
    "node_labels"
   ]
  },
  {
   "cell_type": "markdown",
   "id": "7e51a873-4b5c-4c24-ba6e-495f08f5b6e6",
   "metadata": {
    "jp-MarkdownHeadingCollapsed": true,
    "tags": []
   },
   "source": [
    "#### **find your data** - based on nodes and edges\n",
    "\n",
    "- `MATCH`: specifies the pattern of data to look for\n",
    "- `RETURN`: defines what and how the data will be returned to the user\n",
    "- `LIMIT`: limit the data returned by specifying the maximum number of matching patterns\n",
    "\n",
    "\n",
    "**pattern matching syntax**\n",
    "\n",
    "|   openCypher Pattern|Description|\n",
    "|:--|:--|\n",
    "|`( )`|A node|\n",
    "|`[ ]`|An edge|\n",
    "|`-->`|Follow outgoing edges from a node|\n",
    "|`<--`|Follow incoming edges from a node|\n",
    "|`--`|Follow edges in either direction|\n",
    "|`-[]->`|Include the outgoing edges in the query (to check a label or property for example)|\n",
    "|`<-[]-`|Include the incoming edges in the query (to check a label or property for example)|\n",
    "|`-[]-` |Include edges in either direction in the query|\n",
    "|`-[]->( )`|The node on the other end of an outgoing edge|\n",
    "|`<-[]-()`|The node on the other end of an incoming edge|"
   ]
  },
  {
   "cell_type": "raw",
   "id": "c892f47e-66a2-49ba-a99f-dfe6d629b65a",
   "metadata": {},
   "source": [
    "search for nodes and assign them to a variable `n` (`MATCH (n)`), return the nodes labeled `n` (`RETURN n`), but limit the number returned to 10."
   ]
  },
  {
   "cell_type": "code",
   "execution_count": 25,
   "id": "47a199f8-1335-4919-a617-63ce31811d1b",
   "metadata": {
    "tags": []
   },
   "outputs": [
    {
     "data": {
      "application/vnd.jupyter.widget-view+json": {
       "model_id": "99562046516d4644bd090e2fc02d3799",
       "version_major": 2,
       "version_minor": 0
      },
      "text/plain": [
       "Tab(children=(Output(layout=Layout(max_height='600px', max_width='940px', overflow='scroll')), Force(network=<…"
      ]
     },
     "metadata": {},
     "output_type": "display_data"
    }
   ],
   "source": [
    "%%oc -d $node_labels\n",
    "MATCH (n)  //find me nodes and label them 'n'\n",
    "RETURN n   //return 'n'\n",
    "LIMIT 10   //return only 10 results"
   ]
  },
  {
   "cell_type": "raw",
   "id": "87c59671-8d7e-4b2e-9dcb-11c98c1a88d3",
   "metadata": {},
   "source": [
    "search for node->edge->node patterns, assign the edges to a variable r, return 10 edges"
   ]
  },
  {
   "cell_type": "code",
   "execution_count": 27,
   "id": "f01087b6-c0c3-4b87-b1f6-8359d7ff2133",
   "metadata": {
    "collapsed": true,
    "jupyter": {
     "outputs_hidden": true
    },
    "tags": []
   },
   "outputs": [
    {
     "data": {
      "application/vnd.jupyter.widget-view+json": {
       "model_id": "69b1a2bd32df487eba457a70264b836c",
       "version_major": 2,
       "version_minor": 0
      },
      "text/plain": [
       "Tab(children=(Output(layout=Layout(max_height='600px', max_width='940px', overflow='scroll')), Force(network=<…"
      ]
     },
     "metadata": {},
     "output_type": "display_data"
    }
   ],
   "source": [
    "%%oc -d $node_labels\n",
    "MATCH ()-[r]->() //find me all node->edge->node patterns\n",
    "RETURN r         //return the edge\n",
    "LIMIT 10         //return only 10 results"
   ]
  },
  {
   "cell_type": "raw",
   "id": "f2229bc8-01d1-4dd7-b4af-6bf832caf40d",
   "metadata": {},
   "source": [
    "complex pattern: node-edge->node<-edge-node"
   ]
  },
  {
   "cell_type": "code",
   "execution_count": 40,
   "id": "691c65a8-3cd3-4a87-b7db-439fb6c01efc",
   "metadata": {
    "collapsed": true,
    "jupyter": {
     "outputs_hidden": true
    },
    "tags": []
   },
   "outputs": [
    {
     "data": {
      "application/vnd.jupyter.widget-view+json": {
       "model_id": "16d439725026405c927fdd30dc8475a0",
       "version_major": 2,
       "version_minor": 0
      },
      "text/plain": [
       "Tab(children=(Output(layout=Layout(max_height='600px', max_width='940px', overflow='scroll')), Force(network=<…"
      ]
     },
     "metadata": {},
     "output_type": "display_data"
    }
   ],
   "source": [
    "%%oc -d $node_labels\n",
    "MATCH ()-[]->(n)<-[]-() //find me all node->edge->node patterns\n",
    "RETURN n         //return the nodes\n",
    "LIMIT 10         //return only 10 results"
   ]
  },
  {
   "cell_type": "raw",
   "id": "bd255ffd-ad0d-4253-8253-afc2b015dfa3",
   "metadata": {},
   "source": [
    "assign path"
   ]
  },
  {
   "cell_type": "code",
   "execution_count": 41,
   "id": "52e7dddf-bc6f-434a-aa79-0693975c5a2e",
   "metadata": {
    "tags": []
   },
   "outputs": [
    {
     "data": {
      "application/vnd.jupyter.widget-view+json": {
       "model_id": "633881f62ce4437283600e29ec088314",
       "version_major": 2,
       "version_minor": 0
      },
      "text/plain": [
       "Tab(children=(Output(layout=Layout(max_height='600px', max_width='940px', overflow='scroll')), Force(network=<…"
      ]
     },
     "metadata": {},
     "output_type": "display_data"
    }
   ],
   "source": [
    "%%oc -d $node_labels\n",
    "MATCH p=()-[]->(n)<-[]-()\n",
    "RETURN p\n",
    "LIMIT 10"
   ]
  },
  {
   "cell_type": "markdown",
   "id": "aefb65e5-1894-4d35-a008-f20b83d2d946",
   "metadata": {
    "jp-MarkdownHeadingCollapsed": true,
    "tags": []
   },
   "source": [
    "#### **filtering your data** - use attributes of nodes and edges\n",
    "\n",
    "- WHERE clause with variety of operators\n",
    "- filtering nodes by label \n",
    "    - use inline filters. add colon (`:`) followed by one or more label names (separated by a `|`)\n",
    "    - use labels () and the WHERE clause\n",
    "- filtering edge by type\n",
    "    - use inline filters. add colon (`:`) followed by one or more label names (separated by a `|`) \n",
    "    - use type () and the WHERE clause\n",
    "- finding by property or filter on attribute values\n",
    "    - inline filter. add curly brackets containing the key/value you want to filter on (`{first_name: 'Dave'}`)\n",
    "    - use WHERE clause\n",
    "- filtering on existence of attribute or additional piece of topology\n",
    "    - use `exists()` function\n",
    "\n",
    "**operators**\n",
    "\n",
    "|Type|Operators|\n",
    "| ----------- | ----------- |\n",
    "|General|`DISTINCT, x.y (property access)`|\n",
    "|Math|`+`, `-`, `*`, `/`|\n",
    "|Comparison|`=`, `>`, `<`, `<>`, `<=`, `>=`, `IS NULL`, `IS NOT NULL`|\n",
    "|Boolean|`AND`, `OR`, `NOT`, `XOR`|\n",
    "|String|`STARTS WITH`, `ENDS WITH`, `CONTAINS`, `+`|\n",
    "|LIST|`+`, `IN`, `[]`|\n"
   ]
  },
  {
   "cell_type": "raw",
   "id": "8256336c-6712-46c0-8b38-79d04f34a090",
   "metadata": {},
   "source": [
    "filtering nodes by labels using inline filters"
   ]
  },
  {
   "cell_type": "code",
   "execution_count": 43,
   "id": "cde5014e-e53e-4c16-abe0-f9e72e38fed2",
   "metadata": {
    "collapsed": true,
    "jupyter": {
     "outputs_hidden": true
    },
    "tags": []
   },
   "outputs": [
    {
     "data": {
      "application/vnd.jupyter.widget-view+json": {
       "model_id": "92cb229079ae4b608af64aa154888b03",
       "version_major": 2,
       "version_minor": 0
      },
      "text/plain": [
       "Tab(children=(Output(layout=Layout(max_height='600px', max_width='940px', overflow='scroll')), Force(network=<…"
      ]
     },
     "metadata": {},
     "output_type": "display_data"
    }
   ],
   "source": [
    "%%oc -d $node_labels\n",
    "MATCH (n:person)\n",
    "RETURN n\n",
    "LIMIT 10"
   ]
  },
  {
   "cell_type": "raw",
   "id": "a6d51866-be52-4895-b800-eca2db7381d9",
   "metadata": {},
   "source": [
    "filtering nodes using labels() and WHERE"
   ]
  },
  {
   "cell_type": "code",
   "execution_count": 44,
   "id": "30ab1e10-75a1-4b90-93b5-d526cb4c826a",
   "metadata": {
    "collapsed": true,
    "jupyter": {
     "outputs_hidden": true
    },
    "tags": []
   },
   "outputs": [
    {
     "data": {
      "application/vnd.jupyter.widget-view+json": {
       "model_id": "391861cae30e4bf8a476c7f37b30152a",
       "version_major": 2,
       "version_minor": 0
      },
      "text/plain": [
       "Tab(children=(Output(layout=Layout(max_height='600px', max_width='940px', overflow='scroll')), Force(network=<…"
      ]
     },
     "metadata": {},
     "output_type": "display_data"
    }
   ],
   "source": [
    "%%oc -d $node_labels\n",
    "MATCH (n)\n",
    "WHERE 'person' IN labels(n)\n",
    "RETURN n\n",
    "LIMIT 10"
   ]
  },
  {
   "cell_type": "raw",
   "id": "97d9519f-4897-4391-a150-6d913a826550",
   "metadata": {},
   "source": [
    "filtering edge by type using inline filters"
   ]
  },
  {
   "cell_type": "code",
   "execution_count": 46,
   "id": "1a7c5279-0034-4ce5-ac46-aaaa0648ef98",
   "metadata": {
    "collapsed": true,
    "jupyter": {
     "outputs_hidden": true
    },
    "tags": []
   },
   "outputs": [
    {
     "data": {
      "application/vnd.jupyter.widget-view+json": {
       "model_id": "8b516603d395490cbabf9c919d97ce90",
       "version_major": 2,
       "version_minor": 0
      },
      "text/plain": [
       "Tab(children=(Output(layout=Layout(max_height='600px', max_width='940px', overflow='scroll')), Force(network=<…"
      ]
     },
     "metadata": {},
     "output_type": "display_data"
    }
   ],
   "source": [
    "%%oc -d $node_labels\n",
    "MATCH p=(:person)-[:friends]->()\n",
    "RETURN p\n",
    "LIMIT 10"
   ]
  },
  {
   "cell_type": "raw",
   "id": "05a5ca72-46de-46b6-8420-5d331a41cf5d",
   "metadata": {},
   "source": [
    "filtering edge using type() and WHERE"
   ]
  },
  {
   "cell_type": "code",
   "execution_count": 47,
   "id": "5074e6af-039f-45b7-be28-65af05d77f48",
   "metadata": {
    "collapsed": true,
    "jupyter": {
     "outputs_hidden": true
    },
    "tags": []
   },
   "outputs": [
    {
     "data": {
      "application/vnd.jupyter.widget-view+json": {
       "model_id": "a1b54da5e4374ffabb4e858fdf746656",
       "version_major": 2,
       "version_minor": 0
      },
      "text/plain": [
       "Tab(children=(Output(layout=Layout(max_height='600px', max_width='940px', overflow='scroll')), Force(network=<…"
      ]
     },
     "metadata": {},
     "output_type": "display_data"
    }
   ],
   "source": [
    "%%oc -d $node_labels\n",
    "MATCH p=(:person)-[r]->()\n",
    "WHERE type(r)='friends'\n",
    "RETURN p\n",
    "LIMIT 10"
   ]
  },
  {
   "cell_type": "raw",
   "id": "8585992b-9880-4bba-b3f1-a632940daa20",
   "metadata": {},
   "source": [
    "find by property using WHERE clause"
   ]
  },
  {
   "cell_type": "code",
   "execution_count": 50,
   "id": "1a936bc1-3f05-4ea5-8681-cc27ab1eec9f",
   "metadata": {
    "collapsed": true,
    "jupyter": {
     "outputs_hidden": true
    },
    "tags": []
   },
   "outputs": [
    {
     "data": {
      "application/vnd.jupyter.widget-view+json": {
       "model_id": "9830c340a0044de7ad629338a67427cf",
       "version_major": 2,
       "version_minor": 0
      },
      "text/plain": [
       "Tab(children=(Output(layout=Layout(max_height='600px', max_width='940px', overflow='scroll')), Force(network=<…"
      ]
     },
     "metadata": {},
     "output_type": "display_data"
    }
   ],
   "source": [
    "%%oc -d $node_labels\n",
    "MATCH (n)\n",
    "WHERE n.first_name=\"Dave\"\n",
    "RETURN n\n",
    "LIMIT 10"
   ]
  },
  {
   "cell_type": "raw",
   "id": "81610407-6515-47dc-bb1d-19d51fb4f89b",
   "metadata": {},
   "source": [
    "find by property using inline filters"
   ]
  },
  {
   "cell_type": "code",
   "execution_count": 51,
   "id": "cb8ec0f3-6b18-43e2-907b-041bd378d2a8",
   "metadata": {
    "collapsed": true,
    "jupyter": {
     "outputs_hidden": true
    },
    "tags": []
   },
   "outputs": [
    {
     "data": {
      "application/vnd.jupyter.widget-view+json": {
       "model_id": "cb1450e825b84c8c887fd1d1b6441c75",
       "version_major": 2,
       "version_minor": 0
      },
      "text/plain": [
       "Tab(children=(Output(layout=Layout(max_height='600px', max_width='940px', overflow='scroll')), Force(network=<…"
      ]
     },
     "metadata": {},
     "output_type": "display_data"
    }
   ],
   "source": [
    "%%oc -d $node_labels\n",
    "MATCH (n {first_name: \"Dave\"})\n",
    "RETURN n\n",
    "LIMIT 10"
   ]
  },
  {
   "cell_type": "raw",
   "id": "ff0b4641-f4b7-427d-ae64-10bb63a5ded4",
   "metadata": {},
   "source": [
    "filter on existence"
   ]
  },
  {
   "cell_type": "code",
   "execution_count": 53,
   "id": "9b75fb83-f940-4566-aa90-663a185c2806",
   "metadata": {
    "collapsed": true,
    "jupyter": {
     "outputs_hidden": true
    },
    "tags": []
   },
   "outputs": [
    {
     "data": {
      "application/vnd.jupyter.widget-view+json": {
       "model_id": "056eba680ef547e690fd618f9610f50c",
       "version_major": 2,
       "version_minor": 0
      },
      "text/plain": [
       "Tab(children=(Output(layout=Layout(max_height='600px', max_width='940px', overflow='scroll')), Force(network=<…"
      ]
     },
     "metadata": {},
     "output_type": "display_data"
    }
   ],
   "source": [
    "%%oc -d $node_labels\n",
    "MATCH (n: person)\n",
    "WHERE exists(n.last_name)\n",
    "RETURN n\n",
    "LIMIT 10"
   ]
  },
  {
   "cell_type": "code",
   "execution_count": 54,
   "id": "856d97ee-ab8c-44c4-a219-33d3894d8207",
   "metadata": {
    "collapsed": true,
    "jupyter": {
     "outputs_hidden": true
    },
    "tags": []
   },
   "outputs": [
    {
     "data": {
      "application/vnd.jupyter.widget-view+json": {
       "model_id": "e75bcd4f53f549c8b2f2f207e255caca",
       "version_major": 2,
       "version_minor": 0
      },
      "text/plain": [
       "Tab(children=(Output(layout=Layout(max_height='600px', max_width='940px', overflow='scroll')), Force(network=<…"
      ]
     },
     "metadata": {},
     "output_type": "display_data"
    }
   ],
   "source": [
    "%%oc -d $node_labels\n",
    "MATCH (d:person)\n",
    "WHERE NOT exists(d.age)\n",
    "RETURN d \n",
    "LIMIT 10"
   ]
  },
  {
   "cell_type": "raw",
   "id": "2fa26650-c1e1-4454-acdb-195af1f482f9",
   "metadata": {},
   "source": [
    "pattern match to find all person nodes that do not have anyone who has connected to them with an incoming friends edge"
   ]
  },
  {
   "cell_type": "code",
   "execution_count": 55,
   "id": "7b9594d3-561b-483a-9d76-f53a02b660fb",
   "metadata": {
    "collapsed": true,
    "jupyter": {
     "outputs_hidden": true
    },
    "tags": []
   },
   "outputs": [
    {
     "data": {
      "application/vnd.jupyter.widget-view+json": {
       "model_id": "46d94dc947e1480491cf8e06570bc61a",
       "version_major": 2,
       "version_minor": 0
      },
      "text/plain": [
       "Tab(children=(Output(layout=Layout(max_height='600px', max_width='940px', overflow='scroll')), Force(network=<…"
      ]
     },
     "metadata": {},
     "output_type": "display_data"
    }
   ],
   "source": [
    "%%oc -d $node_labels\n",
    "MATCH (d:person)\n",
    "WHERE NOT (d)<-[:friends]-()\n",
    "RETURN d \n",
    "LIMIT 10"
   ]
  },
  {
   "cell_type": "markdown",
   "id": "afa25a78-8cab-40e0-8cb5-5a5456952759",
   "metadata": {
    "tags": []
   },
   "source": [
    "#### **formatting results**"
   ]
  },
  {
   "cell_type": "raw",
   "id": "2791959a-3434-41e7-980e-3f0190029ffb",
   "metadata": {},
   "source": [
    "returning all values"
   ]
  },
  {
   "cell_type": "code",
   "execution_count": 56,
   "id": "93e35158-7ef4-4c23-ab56-94873d60ee22",
   "metadata": {
    "tags": []
   },
   "outputs": [
    {
     "data": {
      "application/vnd.jupyter.widget-view+json": {
       "model_id": "1dd2299636104813af39ff0f0885732a",
       "version_major": 2,
       "version_minor": 0
      },
      "text/plain": [
       "Tab(children=(Output(layout=Layout(max_height='600px', max_width='940px', overflow='scroll')), Force(network=<…"
      ]
     },
     "metadata": {},
     "output_type": "display_data"
    }
   ],
   "source": [
    "%%oc -d $node_labels\n",
    "MATCH (d:person)\n",
    "RETURN *\n",
    "LIMIT 10"
   ]
  },
  {
   "cell_type": "raw",
   "id": "c6c23d33-18cf-487f-ae4b-a5ff273bcc2a",
   "metadata": {},
   "source": [
    "return property values"
   ]
  },
  {
   "cell_type": "code",
   "execution_count": 57,
   "id": "9032663a-d93f-461b-9824-e36ea9d99515",
   "metadata": {
    "collapsed": true,
    "jupyter": {
     "outputs_hidden": true
    },
    "tags": []
   },
   "outputs": [
    {
     "data": {
      "application/vnd.jupyter.widget-view+json": {
       "model_id": "e986ef3eeb994c439acc2825a5365969",
       "version_major": 2,
       "version_minor": 0
      },
      "text/plain": [
       "Tab(children=(Output(layout=Layout(max_height='600px', max_width='940px', overflow='scroll')), Output(layout=L…"
      ]
     },
     "metadata": {},
     "output_type": "display_data"
    }
   ],
   "source": [
    "%%oc -d $node_labels\n",
    "MATCH (d:person)\n",
    "RETURN d.first_name\n",
    "LIMIT 10"
   ]
  },
  {
   "cell_type": "code",
   "execution_count": 58,
   "id": "c238ceab-0bcb-4c08-88f7-51fc82d4c24e",
   "metadata": {
    "collapsed": true,
    "jupyter": {
     "outputs_hidden": true
    },
    "tags": []
   },
   "outputs": [
    {
     "data": {
      "application/vnd.jupyter.widget-view+json": {
       "model_id": "34e744d0d40b439eb0911c88cc8932e6",
       "version_major": 2,
       "version_minor": 0
      },
      "text/plain": [
       "Tab(children=(Output(layout=Layout(max_height='600px', max_width='940px', overflow='scroll')), Output(layout=L…"
      ]
     },
     "metadata": {},
     "output_type": "display_data"
    }
   ],
   "source": [
    "%%oc -d $node_labels\n",
    "MATCH (d:person)\n",
    "RETURN d.first_name, d.last_name\n",
    "LIMIT 10"
   ]
  },
  {
   "cell_type": "raw",
   "id": "1e9ccc1e-959b-4aaa-8c88-a66d6f4a962f",
   "metadata": {},
   "source": [
    "return unique values"
   ]
  },
  {
   "cell_type": "code",
   "execution_count": 59,
   "id": "a304390c-4802-4707-8ba2-5ab6c88f3ec7",
   "metadata": {
    "collapsed": true,
    "jupyter": {
     "outputs_hidden": true
    },
    "tags": []
   },
   "outputs": [
    {
     "data": {
      "application/vnd.jupyter.widget-view+json": {
       "model_id": "c560701a320d4241a0424b03694af17e",
       "version_major": 2,
       "version_minor": 0
      },
      "text/plain": [
       "Tab(children=(Output(layout=Layout(max_height='600px', max_width='940px', overflow='scroll')), Output(layout=L…"
      ]
     },
     "metadata": {},
     "output_type": "display_data"
    }
   ],
   "source": [
    "%%oc -d $node_labels\n",
    "MATCH (d:person)\n",
    "RETURN DISTINCT d.last_name\n",
    "LIMIT 10"
   ]
  },
  {
   "cell_type": "raw",
   "id": "9dfee10e-d415-46ee-a4d0-37c3a2d0d618",
   "metadata": {},
   "source": [
    "return static values"
   ]
  },
  {
   "cell_type": "code",
   "execution_count": 60,
   "id": "bd5c1c5f-fdd1-424a-8633-9aad591b6111",
   "metadata": {
    "collapsed": true,
    "jupyter": {
     "outputs_hidden": true
    },
    "tags": []
   },
   "outputs": [
    {
     "data": {
      "application/vnd.jupyter.widget-view+json": {
       "model_id": "19083094853e4cb2b7da6a1c21860518",
       "version_major": 2,
       "version_minor": 0
      },
      "text/plain": [
       "Tab(children=(Output(layout=Layout(max_height='600px', max_width='940px', overflow='scroll')), Output(layout=L…"
      ]
     },
     "metadata": {},
     "output_type": "display_data"
    }
   ],
   "source": [
    "%%oc -d $node_labels\n",
    "MATCH (d)\n",
    "RETURN true\n",
    "LIMIT 1"
   ]
  },
  {
   "cell_type": "raw",
   "id": "b323cdc8-2333-4792-b784-5bf114bb0f64",
   "metadata": {},
   "source": [
    "projecting new return values"
   ]
  },
  {
   "cell_type": "code",
   "execution_count": 61,
   "id": "2563f2f7-d6c4-449b-a18b-97627f8a37f8",
   "metadata": {
    "collapsed": true,
    "jupyter": {
     "outputs_hidden": true
    },
    "tags": []
   },
   "outputs": [
    {
     "data": {
      "application/vnd.jupyter.widget-view+json": {
       "model_id": "0ca11f8df4c74ff784e9295886fb447b",
       "version_major": 2,
       "version_minor": 0
      },
      "text/plain": [
       "Tab(children=(Output(layout=Layout(max_height='600px', max_width='940px', overflow='scroll')), Output(layout=L…"
      ]
     },
     "metadata": {},
     "output_type": "display_data"
    }
   ],
   "source": [
    "%%oc -d $node_labels\n",
    "MATCH (d:person)\n",
    "RETURN d.first_name + ' ' + d.last_name AS full_name\n",
    "LIMIT 10"
   ]
  },
  {
   "cell_type": "raw",
   "id": "d7e69207-15e5-493e-aae8-1051d8eb9a65",
   "metadata": {},
   "source": [
    "return complex types like key-value pairs"
   ]
  },
  {
   "cell_type": "code",
   "execution_count": 62,
   "id": "381393c7-ca34-45d8-b60e-84b527eadfc3",
   "metadata": {
    "collapsed": true,
    "jupyter": {
     "outputs_hidden": true
    },
    "tags": []
   },
   "outputs": [
    {
     "data": {
      "application/vnd.jupyter.widget-view+json": {
       "model_id": "48ad80bcb71c41fea74e700c7d56a4a1",
       "version_major": 2,
       "version_minor": 0
      },
      "text/plain": [
       "Tab(children=(Output(layout=Layout(max_height='600px', max_width='940px', overflow='scroll')), Output(layout=L…"
      ]
     },
     "metadata": {},
     "output_type": "display_data"
    }
   ],
   "source": [
    "%%oc -d $node_labels\n",
    "MATCH (d:person)\n",
    "RETURN {element: d, first: d.first_name, last: d.last_name, full: d.first_name + ' ' + d.last_name} AS full_name\n",
    "LIMIT 10"
   ]
  },
  {
   "cell_type": "markdown",
   "id": "12d858e1-cdc1-4c60-b642-213e632f18f3",
   "metadata": {
    "jp-MarkdownHeadingCollapsed": true,
    "tags": []
   },
   "source": [
    "### 2. variable-length-path queries\n",
    "\n",
    "VLP or variable length path patterns\n",
    "\n",
    "In openCypher, a basic VLP query to find all nodes within 1 to 3 hops looks like:\n",
    "\n",
    "```\n",
    "MATCH p=(:person)-[:friends*1..3]->(:person)\n",
    "RETURN p\n",
    "```"
   ]
  },
  {
   "cell_type": "markdown",
   "id": "26a866c2-b7c4-4697-8f85-f40f371c9d2b",
   "metadata": {},
   "source": [
    "**Variable Length Path Syntax**\n",
    "\n",
    "|   VLP Pattern|Description|\n",
    "|:--|:--|\n",
    "|`()-[*2]->()`|Find me a path containing 3 nodes and 2 edges|\n",
    "|`()-[*2..3]->()`|Find me a path containing a minimum of 3 nodes and 2 edges and a maximum of 4 nodes and 3 relationships|\n",
    "|`()-[*2..]->()`|Find me a path containing a minimum of 3 nodes and 2 edges, with no maximum|\n",
    "|`()-[*..2]->()`|Find me a path containing a maximum of 3 nodes and 2 edges, with no minimum|\n",
    "|`()-[*]->()`|Find me a path with no minimum or maximum|\n",
    "\n",
    "\n",
    "Now that we have a basic understanding of openCypher's VLP syntax, let's look at how this is applied to answer some common graph query patterns.\n",
    "\n",
    "**Static Length paths**\n",
    "\n",
    "The simplest VLP pattern you can do in openCypher is to specify a fixed number of loops/iterations for your pattern.  This is accomplished using the syntax `()-[:friends*2]->()`.  Let's execute the query below to search for patterns containing 3 nodes and 2 edges."
   ]
  },
  {
   "cell_type": "raw",
   "id": "33190fab-5f7a-4e1a-b6b8-f0f7ff72c73d",
   "metadata": {},
   "source": [
    "search for pattern containing 3 nodes and 2 edges\n",
    "\n",
    "(friends of friends)"
   ]
  },
  {
   "cell_type": "code",
   "execution_count": 74,
   "id": "386c5150-042c-4e33-a0b6-49b1f7047ce2",
   "metadata": {
    "tags": []
   },
   "outputs": [
    {
     "data": {
      "application/vnd.jupyter.widget-view+json": {
       "model_id": "273eebf024804ae6ad0af559b1c17a0b",
       "version_major": 2,
       "version_minor": 0
      },
      "text/plain": [
       "Tab(children=(Output(layout=Layout(max_height='600px', max_width='940px', overflow='scroll')), Force(network=<…"
      ]
     },
     "metadata": {},
     "output_type": "display_data"
    }
   ],
   "source": [
    "%%oc -d $node_labels\n",
    "MATCH p=()-[:friends*2]->()\n",
    "RETURN p  \n",
    "LIMIT 10 "
   ]
  },
  {
   "cell_type": "raw",
   "id": "84180196-5aa8-4dd0-ad76-350c42d1b808",
   "metadata": {},
   "source": [
    "minimum length\n",
    "\n",
    "(see how many paths are connected via a minimum of 2 friends edges)"
   ]
  },
  {
   "cell_type": "code",
   "execution_count": 70,
   "id": "5e4814f0-65c9-4a60-bc2f-1c8c5ed9e6db",
   "metadata": {
    "tags": []
   },
   "outputs": [
    {
     "data": {
      "application/vnd.jupyter.widget-view+json": {
       "model_id": "b9419fbbef85489cbf580ca7e3348765",
       "version_major": 2,
       "version_minor": 0
      },
      "text/plain": [
       "Tab(children=(Output(layout=Layout(max_height='600px', max_width='940px', overflow='scroll')), Force(network=<…"
      ]
     },
     "metadata": {},
     "output_type": "display_data"
    }
   ],
   "source": [
    "%%oc -d $node_labels\n",
    "MATCH p=()-[:friends*2..]->()\n",
    "RETURN p\n",
    "LIMIT 10"
   ]
  },
  {
   "cell_type": "raw",
   "id": "f927c577-9f29-4dcb-97de-7397e7217ff7",
   "metadata": {},
   "source": [
    "maximum length\n",
    "\n",
    "(see how many paths are connected via a maximum of 2 friends edges)"
   ]
  },
  {
   "cell_type": "code",
   "execution_count": 75,
   "id": "9efdf245-1adf-4fc3-a452-c47f72ff2aaf",
   "metadata": {
    "tags": []
   },
   "outputs": [
    {
     "data": {
      "application/vnd.jupyter.widget-view+json": {
       "model_id": "c3a348f1bfd74beb8d3a007d036d662f",
       "version_major": 2,
       "version_minor": 0
      },
      "text/plain": [
       "Tab(children=(Output(layout=Layout(max_height='600px', max_width='940px', overflow='scroll')), Force(network=<…"
      ]
     },
     "metadata": {},
     "output_type": "display_data"
    }
   ],
   "source": [
    "%%oc -d $node_labels\n",
    "MATCH p=()-[:friends*..2]->()\n",
    "RETURN p\n",
    "LIMIT 10"
   ]
  },
  {
   "cell_type": "raw",
   "id": "a2baae95-e42d-4dbf-91c3-c818a2be0a00",
   "metadata": {},
   "source": [
    "see how many paths are connected via any number of friends edges"
   ]
  },
  {
   "cell_type": "code",
   "execution_count": 72,
   "id": "55b7d40e-5c09-4754-a009-d31acd7d9bfc",
   "metadata": {
    "tags": []
   },
   "outputs": [
    {
     "data": {
      "application/vnd.jupyter.widget-view+json": {
       "model_id": "c04aeb95baac4963b3c1ecf9ccf4a38d",
       "version_major": 2,
       "version_minor": 0
      },
      "text/plain": [
       "Tab(children=(Output(layout=Layout(max_height='600px', max_width='940px', overflow='scroll')), Force(network=<…"
      ]
     },
     "metadata": {},
     "output_type": "display_data"
    }
   ],
   "source": [
    "%%oc -d $node_labels\n",
    "MATCH p=()-[:friends*]->()\n",
    "RETURN p  \n",
    "LIMIT 100   "
   ]
  },
  {
   "cell_type": "markdown",
   "id": "3bd27b48-1bfa-49ca-95a3-02152fc28614",
   "metadata": {},
   "source": [
    "#### exercises\n",
    "    \n",
    "1. find the friends of Dave's friends using a VLP\n",
    "```\n",
    "%%oc -d $node_labels\n",
    "MATCH p=({first_name: \"Dave\"})-[:friends*2]->(x)\n",
    "RETURN DISTINCT x.first_name\n",
    "LIMIT 10\n",
    "```\n",
    "\n",
    "2. find all person nodes connected to Dave\n",
    "```\n",
    "%%oc -d $node_labels\n",
    "MATCH p=({first_name: \"Dave\"})-[:friends*]->()\n",
    "RETURN p\n",
    "LIMIT 10\n",
    "```\n",
    "\n",
    "3. find if dave and denise are connected\n",
    "```\n",
    "%%oc -d $node_labels\n",
    "MATCH p=(d {first_name: \"Dave\"})-[:friends*]-(x {first_name: \"Denise\"})\n",
    "RETURN true\n",
    "LIMIT 1\n",
    "```\n",
    "\n",
    "4. find all ways dave and denise are connected\n",
    "```\n",
    "%%oc -d $node_labels\n",
    "MATCH p=(d {first_name: \"Dave\"})-[:friends*]-(x {first_name: \"Denise\"})\n",
    "RETURN p\n",
    "LIMIT 100\n",
    "```"
   ]
  },
  {
   "cell_type": "markdown",
   "id": "5a3b4f99-7f00-4b98-bb71-2afba1d921ed",
   "metadata": {
    "tags": []
   },
   "source": [
    "### 3: ordering-functions-grouping\n",
    "\n",
    "**ordering**\n",
    "- ordering by a property\n",
    "    - `ORDER BY <variable>.<property name>`\n",
    "    - `ORDER BY <variable>.<property name> DESC`\n",
    "- ordering by multiple properties\n",
    "    - the results are first ordered by the first property, then for equal values, the next property, and so on for all the specified properties.  \n",
    "- ordering by expressions such as `id()` or `keys()`\n",
    "\n",
    "\n",
    "**functions**\n",
    "|Type|Function|\n",
    "| ----------- | ----------- |\n",
    "|Predicate|`exists()`|\n",
    "|Scalar|`coalesce()`, `endNode()`, `head()`, `id()`, `last()`, `length()`, `properties()`, `size()`, `startNode()`, `timestamp()`, `toBoolean()`, `toFloat()`, `toInteger()`, `type()`|\n",
    "|Aggregating|`avg()`, `collect()`, `count()`, `max()`, `min()`, `sum()`|\n",
    "|List|`keys()`, `labels()`, `nodes()`, `range()`, `relationships()`, `reverse()`, `tail()`|\n",
    "|Math - numeric|`abs()`, `ceil()`, `floor()`, `rand()`, `round()`, `sign()`|\n",
    "|Math - logarithmic|`e()`, `exp()`, `log()`, `log10()`, `sqrt()`|\n",
    "|String|`left()`, `lTrim()`, `replace()`, `reverse()`, `right()`, `rTrim()`, `split()`, `substring()`, `toLower()`, `toString()`, `toUpper()`, `trim()`|\n",
    "\n",
    "\n",
    "**grouping**\n",
    "- different than SQL or gremlin\n",
    "- aggregation functions (`avg()`, `collect()`, `count()`, `max()`, `min()`, `sum()`)\n",
    "- for grouping to work, the final aggregtion expression has to be either:\n",
    "    - an aggregation function (`RETURN count(*)`)\n",
    "    - a grouping key (`RETURN n, count(n)`)\n",
    "    - a local variable\n",
    "- these expressions ensure that the aggregation is be computed over all the results within a group.  \n",
    "    - Groups are determined through the grouping keys. \n",
    "    - Grouping keys are non-aggregate expressions, that are specfied in conjunction with the aggregate functions are are used to group the values.\n",
    "- group by a property\n",
    "- group on a pattern match\n",
    "\n",
    "\n",
    "**combining queries**\n",
    "- combine subqueries to create more complex queries\n",
    "- how ?\n",
    "    - `UNION`\n",
    "        - combine results of 2 or more queries and return combined result. (no duplicates)\n",
    "        - note: must return same number of columns and the columns must have identical names\n",
    "    - `UNION ALL`\n",
    "        - same as UNION but retains duplicates\n",
    "    - `WITH`\n",
    "        - subqueries are chained together instead of combining the results\n",
    "        - usage patterns:\n",
    "            - limiting the no. of entries passed to other subqueries\n",
    "            - introducing new intermediate results such from projection/aggregation/etc\n",
    "            - filtering on aggregated values for subsequent queries"
   ]
  },
  {
   "cell_type": "code",
   "execution_count": 76,
   "id": "581d6028-8d07-405b-b18f-8366290231f3",
   "metadata": {
    "collapsed": true,
    "jupyter": {
     "outputs_hidden": true
    },
    "tags": []
   },
   "outputs": [
    {
     "data": {
      "application/vnd.jupyter.widget-view+json": {
       "model_id": "e9050ad07ced4db7a07a9a67d2084b10",
       "version_major": 2,
       "version_minor": 0
      },
      "text/plain": [
       "Tab(children=(Output(layout=Layout(max_height='600px', max_width='940px', overflow='scroll')), Output(layout=L…"
      ]
     },
     "metadata": {},
     "output_type": "display_data"
    }
   ],
   "source": [
    "%%oc -d $node_labels\n",
    "MATCH (n:restaurant)  \n",
    "RETURN n.name, "
   ]
  },
  {
   "cell_type": "code",
   "execution_count": 77,
   "id": "c9de34b7-0ca6-44b5-a6d6-a8d037fd97aa",
   "metadata": {
    "collapsed": true,
    "jupyter": {
     "outputs_hidden": true
    },
    "tags": []
   },
   "outputs": [
    {
     "data": {
      "application/vnd.jupyter.widget-view+json": {
       "model_id": "b3149e560c3b4625b12538c83b2ce5e8",
       "version_major": 2,
       "version_minor": 0
      },
      "text/plain": [
       "Tab(children=(Output(layout=Layout(max_height='600px', max_width='940px', overflow='scroll')), Output(layout=L…"
      ]
     },
     "metadata": {},
     "output_type": "display_data"
    }
   ],
   "source": [
    "%%oc -d $node_labels\n",
    "MATCH (n:restaurant)  \n",
    "RETURN n.name\n",
    "ORDER BY n.name DESC"
   ]
  },
  {
   "cell_type": "code",
   "execution_count": 78,
   "id": "0c74eb35-47cd-430c-9c72-fb45bee38ece",
   "metadata": {
    "collapsed": true,
    "jupyter": {
     "outputs_hidden": true
    },
    "tags": []
   },
   "outputs": [
    {
     "data": {
      "application/vnd.jupyter.widget-view+json": {
       "model_id": "5a105eab57ab4dc18a7053d9bf0a4bca",
       "version_major": 2,
       "version_minor": 0
      },
      "text/plain": [
       "Tab(children=(Output(layout=Layout(max_height='600px', max_width='940px', overflow='scroll')), Output(layout=L…"
      ]
     },
     "metadata": {},
     "output_type": "display_data"
    }
   ],
   "source": [
    "%%oc -d $node_labels\n",
    "MATCH (n:restaurant)  \n",
    "RETURN n.name, n.address\n",
    "ORDER BY n.name, n.address"
   ]
  },
  {
   "cell_type": "code",
   "execution_count": 79,
   "id": "c6adba40-e039-4417-8656-a03d1ce180e5",
   "metadata": {
    "collapsed": true,
    "jupyter": {
     "outputs_hidden": true
    },
    "tags": []
   },
   "outputs": [
    {
     "data": {
      "application/vnd.jupyter.widget-view+json": {
       "model_id": "878c0ff452e447ca83231dc76371efdd",
       "version_major": 2,
       "version_minor": 0
      },
      "text/plain": [
       "Tab(children=(Output(layout=Layout(max_height='600px', max_width='940px', overflow='scroll')), Output(layout=L…"
      ]
     },
     "metadata": {},
     "output_type": "display_data"
    }
   ],
   "source": [
    "%%oc -d $node_labels\n",
    "MATCH (n:restaurant)  \n",
    "RETURN n.name\n",
    "ORDER BY n"
   ]
  },
  {
   "cell_type": "code",
   "execution_count": 80,
   "id": "d7c12265-5066-4d1e-845e-9fdbeb35c9fc",
   "metadata": {
    "collapsed": true,
    "jupyter": {
     "outputs_hidden": true
    },
    "tags": []
   },
   "outputs": [
    {
     "data": {
      "application/vnd.jupyter.widget-view+json": {
       "model_id": "83c6b6624fb3433389dcb9382bc4edac",
       "version_major": 2,
       "version_minor": 0
      },
      "text/plain": [
       "Tab(children=(Output(layout=Layout(max_height='600px', max_width='940px', overflow='scroll')), Output(layout=L…"
      ]
     },
     "metadata": {},
     "output_type": "display_data"
    }
   ],
   "source": [
    "%%oc -d $node_labels\n",
    "MATCH (n:restaurant)  \n",
    "RETURN n.name\n",
    "ORDER BY id(n)"
   ]
  },
  {
   "cell_type": "code",
   "execution_count": 81,
   "id": "09147271-d5a9-4d35-9abb-347d972cc35f",
   "metadata": {
    "collapsed": true,
    "jupyter": {
     "outputs_hidden": true
    },
    "tags": []
   },
   "outputs": [
    {
     "data": {
      "application/vnd.jupyter.widget-view+json": {
       "model_id": "6743ad53f3c94a2fbc6e851d9a0789eb",
       "version_major": 2,
       "version_minor": 0
      },
      "text/plain": [
       "Tab(children=(Output(layout=Layout(max_height='600px', max_width='940px', overflow='scroll')), Output(layout=L…"
      ]
     },
     "metadata": {},
     "output_type": "display_data"
    }
   ],
   "source": [
    "%%oc -d $node_labels\n",
    "MATCH (n:restaurant)  \n",
    "RETURN toUpper(n.name) as name, \n",
    "    //returns the first non-null answer, since this property does not exist it should be `No Capacity Provided`\n",
    "    coalesce(n.max_capacity, 'No Capacity Provided') as capacity, \n",
    "    n.address as address\n",
    "ORDER BY n.name\n",
    "LIMIT 10"
   ]
  },
  {
   "cell_type": "code",
   "execution_count": 82,
   "id": "ebb74645-26a9-4547-9a5c-b6ecc9888cd5",
   "metadata": {
    "collapsed": true,
    "jupyter": {
     "outputs_hidden": true
    },
    "tags": []
   },
   "outputs": [
    {
     "data": {
      "application/vnd.jupyter.widget-view+json": {
       "model_id": "ee41e3dd7bc946049c02618bc47f92c8",
       "version_major": 2,
       "version_minor": 0
      },
      "text/plain": [
       "Tab(children=(Output(layout=Layout(max_height='600px', max_width='940px', overflow='scroll')), Output(layout=L…"
      ]
     },
     "metadata": {},
     "output_type": "display_data"
    }
   ],
   "source": [
    "%%oc -d $node_labels\n",
    "MATCH (n:restaurant)  \n",
    "WHERE toUpper(n.name) = 'HAND ROLL'\n",
    "RETURN n.name"
   ]
  },
  {
   "cell_type": "code",
   "execution_count": 83,
   "id": "bf9c8f8c-bd23-4483-ac5a-e8b8047baa6d",
   "metadata": {
    "collapsed": true,
    "jupyter": {
     "outputs_hidden": true
    },
    "tags": []
   },
   "outputs": [
    {
     "data": {
      "application/vnd.jupyter.widget-view+json": {
       "model_id": "9663023e3180443d8099339169597e1e",
       "version_major": 2,
       "version_minor": 0
      },
      "text/plain": [
       "Tab(children=(Output(layout=Layout(max_height='600px', max_width='940px', overflow='scroll')), Output(layout=L…"
      ]
     },
     "metadata": {},
     "output_type": "display_data"
    }
   ],
   "source": [
    "%%oc -d $node_labels\n",
    "MATCH (n:restaurant)  \n",
    "RETURN avg(size(split(n.name, \" \")))\n",
    "LIMIT 10"
   ]
  },
  {
   "cell_type": "code",
   "execution_count": 84,
   "id": "35f7038c-3e48-4c4b-a068-5611535f8745",
   "metadata": {
    "collapsed": true,
    "jupyter": {
     "outputs_hidden": true
    },
    "tags": []
   },
   "outputs": [
    {
     "data": {
      "application/vnd.jupyter.widget-view+json": {
       "model_id": "420e4fd76ce34a7d9f685e84efb1b85d",
       "version_major": 2,
       "version_minor": 0
      },
      "text/plain": [
       "Tab(children=(Output(layout=Layout(max_height='600px', max_width='940px', overflow='scroll')), Output(layout=L…"
      ]
     },
     "metadata": {},
     "output_type": "display_data"
    }
   ],
   "source": [
    "%%oc -d $node_labels\n",
    "MATCH (n)\n",
    "RETURN n.name AS name, count(n.name) AS cnt"
   ]
  },
  {
   "cell_type": "code",
   "execution_count": 85,
   "id": "24c9acfc-e49e-48bd-9ec2-8eb1ba94189a",
   "metadata": {
    "collapsed": true,
    "jupyter": {
     "outputs_hidden": true
    },
    "tags": []
   },
   "outputs": [
    {
     "data": {
      "application/vnd.jupyter.widget-view+json": {
       "model_id": "e7c86b35f292428db5cca4ef3d6d284a",
       "version_major": 2,
       "version_minor": 0
      },
      "text/plain": [
       "Tab(children=(Output(layout=Layout(max_height='600px', max_width='940px', overflow='scroll')), Output(layout=L…"
      ]
     },
     "metadata": {},
     "output_type": "display_data"
    }
   ],
   "source": [
    "%%oc -d $node_labels\n",
    "MATCH (n:restaurant)  \n",
    "RETURN count(*) AS count_in_length, size(n.name) AS name_length\n",
    "ORDER BY name_length"
   ]
  },
  {
   "cell_type": "raw",
   "id": "c502e6f1-9022-439a-84a9-883dce8cddf3",
   "metadata": {
    "tags": []
   },
   "source": [
    "find the average rating of the restaurants in our graph"
   ]
  },
  {
   "cell_type": "code",
   "execution_count": 86,
   "id": "f0d5e33d-a172-495e-8ac0-1c8d61870036",
   "metadata": {
    "collapsed": true,
    "jupyter": {
     "outputs_hidden": true
    },
    "tags": []
   },
   "outputs": [
    {
     "data": {
      "application/vnd.jupyter.widget-view+json": {
       "model_id": "8d8cdcddd0274c4c98a9f038e0a41fdc",
       "version_major": 2,
       "version_minor": 0
      },
      "text/plain": [
       "Tab(children=(Output(layout=Layout(max_height='600px', max_width='940px', overflow='scroll')), Output(layout=L…"
      ]
     },
     "metadata": {},
     "output_type": "display_data"
    }
   ],
   "source": [
    "%%oc -d $node_labels\n",
    "MATCH (n:restaurant)<-[:about]-(r:review)\n",
    "RETURN n.name AS name, avg(r.rating) AS rating\n",
    "ORDER BY rating desc"
   ]
  },
  {
   "cell_type": "raw",
   "id": "37f9f5be-fa3e-4ac8-b541-57e3f53d2ef8",
   "metadata": {},
   "source": [
    "union of 2 queries"
   ]
  },
  {
   "cell_type": "code",
   "execution_count": 109,
   "id": "633269f2-148c-47c6-8266-9d183701e1e4",
   "metadata": {
    "collapsed": true,
    "jupyter": {
     "outputs_hidden": true
    },
    "tags": []
   },
   "outputs": [
    {
     "data": {
      "application/vnd.jupyter.widget-view+json": {
       "model_id": "b3b0803fecb84c33a7e49f526fa34afb",
       "version_major": 2,
       "version_minor": 0
      },
      "text/plain": [
       "Tab(children=(Output(layout=Layout(max_height='600px', max_width='940px', overflow='scroll')), Force(network=<…"
      ]
     },
     "metadata": {},
     "output_type": "display_data"
    }
   ],
   "source": [
    "%%oc -d $node_labels\n",
    "MATCH (n:restaurant)\n",
    "RETURN n\n",
    "LIMIT 5\n",
    "UNION\n",
    "MATCH (n:review)\n",
    "RETURN n\n",
    "LIMIT 5"
   ]
  },
  {
   "cell_type": "raw",
   "id": "3f2ddd39-8ed8-485e-8796-30a409bd6d0f",
   "metadata": {},
   "source": [
    "find 5 restaurants and then find the reviews for those restaurants only"
   ]
  },
  {
   "cell_type": "code",
   "execution_count": 110,
   "id": "470df1cb-fa82-44ed-854e-3640d57d80f2",
   "metadata": {
    "collapsed": true,
    "jupyter": {
     "outputs_hidden": true
    },
    "tags": []
   },
   "outputs": [
    {
     "data": {
      "application/vnd.jupyter.widget-view+json": {
       "model_id": "6fbb29a95cf642f2adb7bcccc5284fa0",
       "version_major": 2,
       "version_minor": 0
      },
      "text/plain": [
       "Tab(children=(Output(layout=Layout(max_height='600px', max_width='940px', overflow='scroll')), Force(network=<…"
      ]
     },
     "metadata": {},
     "output_type": "display_data"
    }
   ],
   "source": [
    "%%oc -d $node_labels\n",
    "\n",
    "MATCH (n:restaurant)\n",
    "WITH n LIMIT 5\n",
    "MATCH p=(n)<-[:about]-(:review)\n",
    "RETURN p"
   ]
  },
  {
   "cell_type": "raw",
   "id": "8103811c-2969-4bf8-9a7d-e70098ce5edc",
   "metadata": {},
   "source": [
    "find all `restaurant` nodes that are connected to a `review`.  We are then passing the `restaurant` and an upper case version of the `name` called `upperCaseName` to the subsequent query portions, where we filter for restaurants starting with `WITH`."
   ]
  },
  {
   "cell_type": "code",
   "execution_count": null,
   "id": "0c63ce3d-afe4-4078-8683-cbf9adbd3833",
   "metadata": {},
   "outputs": [],
   "source": [
    "%%oc -d $node_labels\n",
    "MATCH (r:restaurant)<--(rev:review)\n",
    "WITH r, toUpper(r.name) AS upperCaseName\n",
    "WHERE upperCaseName STARTS WITH 'WITH'\n",
    "RETURN r.name"
   ]
  },
  {
   "cell_type": "raw",
   "id": "b126fea8-88c7-4213-bb59-41910ee73021",
   "metadata": {},
   "source": [
    "find all restaurants with more than 5 reviews and then find the city for those restaurants"
   ]
  },
  {
   "cell_type": "code",
   "execution_count": 113,
   "id": "167779ba-afd2-4b47-be07-502b324a9182",
   "metadata": {
    "tags": []
   },
   "outputs": [
    {
     "data": {
      "application/vnd.jupyter.widget-view+json": {
       "model_id": "d700000a7fb043d9bddddfe3e5d888d0",
       "version_major": 2,
       "version_minor": 0
      },
      "text/plain": [
       "Tab(children=(Output(layout=Layout(max_height='600px', max_width='940px', overflow='scroll')), Output(layout=L…"
      ]
     },
     "metadata": {},
     "output_type": "display_data"
    }
   ],
   "source": [
    "%%oc -d $node_labels\n",
    "MATCH (r:restaurant)<--(rev:review)\n",
    "WITH size(collect(rev)) as num_reviews, r\n",
    "WHERE num_reviews > 5\n",
    "MATCH (r)-[:within]->(c:city)\n",
    "RETURN c.name as city, r.name as name"
   ]
  },
  {
   "cell_type": "raw",
   "id": "0f85b281-b7dd-43b0-b888-82bccac6b973",
   "metadata": {},
   "source": [
    "find all restaurants with more than 5 reviews and then find the city for those restaurants"
   ]
  },
  {
   "cell_type": "code",
   "execution_count": 112,
   "id": "2728d377-aad5-43b0-9889-5642fdef1089",
   "metadata": {
    "tags": []
   },
   "outputs": [
    {
     "data": {
      "application/vnd.jupyter.widget-view+json": {
       "model_id": "2617d472161e4f1cb26b70b3868d62d3",
       "version_major": 2,
       "version_minor": 0
      },
      "text/plain": [
       "Tab(children=(Output(layout=Layout(max_height='600px', max_width='940px', overflow='scroll')), Output(layout=L…"
      ]
     },
     "metadata": {},
     "output_type": "display_data"
    }
   ],
   "source": [
    "%%oc -d $node_labels\n",
    "MATCH (r:restaurant)<--(rev:review)\n",
    "WITH r, count(rev) as num_reviews\n",
    "WHERE num_reviews > 5\n",
    "MATCH (r)-[:within]->(c:city)\n",
    "RETURN c.name as city, r.name as name"
   ]
  },
  {
   "cell_type": "code",
   "execution_count": 117,
   "id": "8b76e4a7-d971-4bd3-88f6-30972418f9db",
   "metadata": {
    "tags": []
   },
   "outputs": [
    {
     "data": {
      "application/vnd.jupyter.widget-view+json": {
       "model_id": "7ed6a3e44c3c46eb8e0771c27e37e926",
       "version_major": 2,
       "version_minor": 0
      },
      "text/plain": [
       "Tab(children=(Output(layout=Layout(overflow='scroll')),), _titles={'0': 'Error'})"
      ]
     },
     "metadata": {},
     "output_type": "display_data"
    }
   ],
   "source": [
    "%%oc -d $node_labels\n",
    "MATCH (r:restaurant)<--(rev:review)\n",
    "WITH size(collect(rev)) as num_reviews, r\n",
    "WHERE num_reviews >5\n",
    "RETURN rev"
   ]
  },
  {
   "cell_type": "code",
   "execution_count": 116,
   "id": "7d2e3f8b-872f-4c12-b1a7-ed9db3b47d08",
   "metadata": {
    "tags": []
   },
   "outputs": [
    {
     "data": {
      "application/vnd.jupyter.widget-view+json": {
       "model_id": "b612d74d04c046fe85a494b2418396f3",
       "version_major": 2,
       "version_minor": 0
      },
      "text/plain": [
       "Tab(children=(Output(layout=Layout(max_height='600px', max_width='940px', overflow='scroll')), Force(network=<…"
      ]
     },
     "metadata": {},
     "output_type": "display_data"
    }
   ],
   "source": [
    "%%oc -d $node_labels\n",
    "MATCH (r:restaurant)<--(rev:review)\n",
    "WITH collect(rev) as revs\n",
    "WHERE size(revs)>5\n",
    "RETURN revs"
   ]
  },
  {
   "cell_type": "markdown",
   "id": "624a8ee0-4e34-468d-bcae-8797a0c225ca",
   "metadata": {
    "tags": []
   },
   "source": [
    "Question: What are the 3 highest restaurants?\n",
    "\n",
    "Using the data model above, write a query that will:\n",
    "\n",
    "* Find the 3 highest average restaurant rating\n",
    "* Find the associated cuisine\n",
    "* Return the restaurant name, the cuisine name, and the average rating\n",
    "* Order the results by average rating descending\n",
    "\n",
    "The results for this query are:\n",
    "\n",
    "|Restaurant name|Cuisine|Avg Rating|\n",
    "|---|---|---|\n",
    "|Lonely Grape|bar|5.0|\n",
    "|Perryman's|bar|4.5|\n",
    "|Rare Bull|steakhouse|4.333333|\n"
   ]
  },
  {
   "cell_type": "code",
   "execution_count": 119,
   "id": "a5555ccc-a400-411a-b0ad-1ced98eba963",
   "metadata": {
    "tags": []
   },
   "outputs": [
    {
     "data": {
      "application/vnd.jupyter.widget-view+json": {
       "model_id": "e5dc89819a4c44f1abd7debc9031fdf1",
       "version_major": 2,
       "version_minor": 0
      },
      "text/plain": [
       "Tab(children=(Output(layout=Layout(max_height='600px', max_width='940px', overflow='scroll')), Output(layout=L…"
      ]
     },
     "metadata": {},
     "output_type": "display_data"
    }
   ],
   "source": [
    "%%oc -d $node_labels\n",
    "MATCH (r:restaurant)-->(c:cuisine)\n",
    "WITH r, c\n",
    "MATCH (r)<--(rev:review)\n",
    "RETURN r.name AS `Restaurant name`, c.name AS `Cuisine`, avg(rev.rating) AS `Avg Rating`\n",
    "ORDER BY `Avg Rating` desc\n",
    "LIMIT 3"
   ]
  },
  {
   "cell_type": "code",
   "execution_count": 127,
   "id": "9ce7660f-7ca3-45ca-ba2a-b662aa0cebe1",
   "metadata": {
    "tags": []
   },
   "outputs": [
    {
     "data": {
      "application/vnd.jupyter.widget-view+json": {
       "model_id": "1b7756ff2be2443a8a5021066a3ed6a3",
       "version_major": 2,
       "version_minor": 0
      },
      "text/plain": [
       "Tab(children=(Output(layout=Layout(max_height='600px', max_width='940px', overflow='scroll')), Output(layout=L…"
      ]
     },
     "metadata": {},
     "output_type": "display_data"
    }
   ],
   "source": [
    "%%oc\n",
    "MATCH (r:restaurant)<-[:about]-(rev:review)\n",
    "WITH r, avg(rev.rating) AS avg_rating\n",
    "ORDER BY avg_rating DESC\n",
    "LIMIT 3\n",
    "MATCH (r)-[:serves]->(c:cuisine)\n",
    "RETURN r.name, c.name, avg_rating\n",
    "ORDER BY avg_rating Desc"
   ]
  },
  {
   "cell_type": "markdown",
   "id": "e5059d1e-e02e-48e5-a445-1310b5fa3c2e",
   "metadata": {},
   "source": [
    "Question: Find the top 3 highest rated restaurants in the city where Dave lives\n",
    "\n",
    "Using the data model above, write a query that will:\n",
    "\n",
    "* Find a `person` node(s) with a `first_name` of \"Dave\"\n",
    "* Find the `city` that Dave lives in\n",
    "* Find the average rating of restaurants in that city\n",
    "* Find the top 3 average ratings\n",
    "* Return the restaurant name, address, and average rating\n",
    "* Order by the average rating descending\n",
    "\n",
    "The results for this query are:\n",
    "\n",
    "|Restaurant name|Address|Avg Rating|\n",
    "|---|---|---|\n",
    "|Dave's Big Deluxe|\t490 Ivan Cape|4.0|\n",
    "|Pick & Go|4881 Upton Falls|3.75|\n",
    "|Without Chaser|\t01511 Casper Fall|3.5|"
   ]
  },
  {
   "cell_type": "code",
   "execution_count": 120,
   "id": "28960726-212c-4b66-b7fe-3aedb680ea0c",
   "metadata": {
    "tags": []
   },
   "outputs": [
    {
     "data": {
      "application/vnd.jupyter.widget-view+json": {
       "model_id": "8f22bd7c6b3d47e981c1c5cbbd190262",
       "version_major": 2,
       "version_minor": 0
      },
      "text/plain": [
       "Tab(children=(Output(layout=Layout(max_height='600px', max_width='940px', overflow='scroll')), Output(layout=L…"
      ]
     },
     "metadata": {},
     "output_type": "display_data"
    }
   ],
   "source": [
    "%%oc -d $node_labels\n",
    "MATCH (p {first_name: \"Dave\"})-->(c:city)\n",
    "WITH c\n",
    "MATCH (c)<--(r:restaurant)\n",
    "WITH r\n",
    "MATCH (r)<--(rev:review)\n",
    "RETURN r.name AS `Restaurant name`, r.address AS `Address`, avg(rev.rating) AS `Avg Rating`\n",
    "ORDER BY `Avg Rating` desc\n",
    "LIMIT 5"
   ]
  },
  {
   "cell_type": "code",
   "execution_count": 126,
   "id": "45918ad7-a952-46ae-a905-a7ca61b0e188",
   "metadata": {
    "tags": []
   },
   "outputs": [
    {
     "data": {
      "application/vnd.jupyter.widget-view+json": {
       "model_id": "a9ba119b4b0a46fc9c6f2f95ee90879e",
       "version_major": 2,
       "version_minor": 0
      },
      "text/plain": [
       "Tab(children=(Output(layout=Layout(max_height='600px', max_width='940px', overflow='scroll')), Output(layout=L…"
      ]
     },
     "metadata": {},
     "output_type": "display_data"
    }
   ],
   "source": [
    "%%oc\n",
    "MATCH (p:person {first_name: 'Dave'})-[:lives]->(:city)<-[:within]-(r:restaurant)<-[:about]-(v:review)\n",
    "WITH r, avg(v.rating) AS rating_average, p\n",
    "RETURN r.name AS name,\n",
    "r.address AS address, rating_average\n",
    "ORDER BY rating_average DESC \n",
    "LIMIT 3"
   ]
  },
  {
   "cell_type": "markdown",
   "id": "cd7a73d7-69cc-41ec-b88f-5c049ee68ffe",
   "metadata": {},
   "source": [
    "Question: What Mexican or Chinese restaurant near Dave that is the highest rated?\n",
    "\n",
    "Using the data model above, write a query that will:\n",
    "\n",
    "* Find a `person` node(s) with a `first_name` of \"Dave\"\n",
    "* Find the `city` that Dave lives in\n",
    "* Find the restaurants in that city that serve 'Mexican' or 'Chinese' food\n",
    "* Find the average rating of those restaurants\n",
    "* Return the restaurant name, address, and average rating\n",
    "* Order by the average rating descending\n",
    "* Return the top 1 result\n",
    "\n",
    "The results for this query are:\n",
    "\n",
    "|Restaurant name|Address|Avg Rating|\n",
    "|---|---|---|\n",
    "|With Salsa|24320 Williamson Causeway|3.5|"
   ]
  },
  {
   "cell_type": "code",
   "execution_count": 121,
   "id": "02dd0dc0-bbae-4a3e-98a4-7f97e6d2ae4f",
   "metadata": {
    "tags": []
   },
   "outputs": [
    {
     "data": {
      "application/vnd.jupyter.widget-view+json": {
       "model_id": "95c3ba10587e4b9a906433b26255e118",
       "version_major": 2,
       "version_minor": 0
      },
      "text/plain": [
       "Tab(children=(Output(layout=Layout(max_height='600px', max_width='940px', overflow='scroll')), Output(layout=L…"
      ]
     },
     "metadata": {},
     "output_type": "display_data"
    }
   ],
   "source": [
    "%%oc -d $node_labels\n",
    "MATCH (p {first_name: \"Dave\"})-->(c:city)\n",
    "WITH c\n",
    "MATCH (c)<--(r:restaurant)\n",
    "WITH r\n",
    "MATCH (r:restaurant)-->(cu:cuisine)\n",
    "WHERE cu.name=\"Mexican\" OR cu.name=\"Chinese\"\n",
    "WITH r\n",
    "MATCH (r)<--(rev:review)\n",
    "RETURN r.name AS `Restaurant name`, r.address AS `Address`, avg(rev.rating) AS `Avg Rating`\n",
    "ORDER BY `Avg Rating` desc\n",
    "LIMIT 1"
   ]
  },
  {
   "cell_type": "code",
   "execution_count": 125,
   "id": "a49d4e42-f53e-40d2-8bc8-4999d717a819",
   "metadata": {
    "tags": []
   },
   "outputs": [
    {
     "data": {
      "application/vnd.jupyter.widget-view+json": {
       "model_id": "8901477c602941e5988623250a83d998",
       "version_major": 2,
       "version_minor": 0
      },
      "text/plain": [
       "Tab(children=(Output(layout=Layout(max_height='600px', max_width='940px', overflow='scroll')), Output(layout=L…"
      ]
     },
     "metadata": {},
     "output_type": "display_data"
    }
   ],
   "source": [
    "%%oc\n",
    "MATCH (p:person {first_name: 'Dave'})-[:lives]->(:city)<-[:within]-(r:restaurant)-[:serves]->(c:cuisine) \n",
    "WHERE c.name IN ['Mexican', 'Chinese'] \n",
    "WITH r\n",
    "MATCH (r)<-[:about]-(v:review) \n",
    "WITH r, avg(v.rating) AS rating_average \n",
    "RETURN r.name AS name, \n",
    "    r.address AS address, rating_average\n",
    "ORDER BY rating_average DESC \n",
    "LIMIT 1"
   ]
  },
  {
   "cell_type": "markdown",
   "id": "77dc912c-89de-4fd9-9310-1003c0780a5c",
   "metadata": {
    "tags": []
   },
   "source": [
    "Question: What are the top 3 restaurants, recommended by his friends, where Dave lives? (Personalized Recommendation)\n",
    "\n",
    "Using the data model above, write a query that will:\n",
    "\n",
    "* Find a `person` node(s) with a `first_name` of \"Dave\"\n",
    "* Find the `city` that Dave lives in\n",
    "* Find Dave's friends\n",
    "* Find reviews written by Dave's friends in the city \"Dave\" lives in\n",
    "* Find the average rating of those restaurants\n",
    "* Return the restaurant name, address, and average rating\n",
    "* Order by the average rating descending\n",
    "* Return the top 3\n",
    "\n",
    "The results for this query are:\n",
    "\n",
    "|Restaurant name|Address|Avg Rating|\n",
    "|---|---|---|\n",
    "|Dave's Big Deluxe|490 Ivan Cape|4.0|\n",
    "|With Salsa|24320 Williamson Causeway|4.0|\n",
    "|Satiated|370 Hills Estates|3.666667|"
   ]
  },
  {
   "cell_type": "code",
   "execution_count": 123,
   "id": "d4681cf8-0c10-4cc4-a0c5-cdd7d46ae4ba",
   "metadata": {
    "tags": []
   },
   "outputs": [
    {
     "data": {
      "application/vnd.jupyter.widget-view+json": {
       "model_id": "27577025305949528282689b727bee77",
       "version_major": 2,
       "version_minor": 0
      },
      "text/plain": [
       "Tab(children=(Output(layout=Layout(max_height='600px', max_width='940px', overflow='scroll')), Output(layout=L…"
      ]
     },
     "metadata": {},
     "output_type": "display_data"
    }
   ],
   "source": [
    "%%oc\n",
    "MATCH (p:person {first_name: 'Dave'})-[:lives]->(c:city)\n",
    "MATCH (p)-[:friends]-()-[:wrote]-(v)-[:about]-\n",
    "(r:restaurant)-[:within]-(c) \n",
    "RETURN  r.name AS name, r.address AS address, avg(v.rating) as rating_average\n",
    "ORDER BY rating_average DESC\n",
    "LIMIT 3"
   ]
  },
  {
   "cell_type": "code",
   "execution_count": null,
   "id": "b39e4d0e-2823-4adb-a833-8c5b7d4a5b9a",
   "metadata": {},
   "outputs": [],
   "source": []
  },
  {
   "cell_type": "markdown",
   "id": "f6bddbbf-660f-4bf6-bf29-b1325832010c",
   "metadata": {},
   "source": [
    "### 4. create-update-delete queries"
   ]
  },
  {
   "cell_type": "code",
   "execution_count": null,
   "id": "b94f1add-1d40-4058-9f8e-73be0c98acb5",
   "metadata": {},
   "outputs": [],
   "source": [
    "%%oc -d $node_labels\n",
    "CREATE (n:person {first_name: 'John', last_name: 'Doe'})\n",
    "RETURN n"
   ]
  },
  {
   "cell_type": "code",
   "execution_count": null,
   "id": "453a042f-9c12-4cd3-8e97-e8ab1a1604af",
   "metadata": {},
   "outputs": [],
   "source": [
    "%%oc -d $node_labels\n",
    "CREATE (n:person)\n",
    "SET n={first_name: 'Jane', last_name: 'Doe'}\n",
    "RETURN n"
   ]
  },
  {
   "cell_type": "code",
   "execution_count": null,
   "id": "4291c004-f19d-43da-8e57-cae9cce8cb35",
   "metadata": {},
   "outputs": [],
   "source": [
    "%%oc -d $node_labels\n",
    "MATCH (john:person {first_name: 'John', last_name:'Doe'}), (jane:person {first_name: 'Jane', last_name:'Doe'})  \n",
    "CREATE (john)-[r:friends]->(jane)\n",
    "RETURN r"
   ]
  },
  {
   "cell_type": "code",
   "execution_count": null,
   "id": "f902004c-2409-4c26-bf64-1b22cd9801f0",
   "metadata": {},
   "outputs": [],
   "source": [
    "%%oc -d $node_labels\n",
    "MATCH (john:person {first_name: 'John', last_name:'Doe'}), (jane:person {first_name: 'Jane', last_name:'Doe'})  \n",
    "CREATE (john)-[r:friends]->(jane)\n",
    "SET r.relationship='coworker'\n",
    "RETURN r"
   ]
  },
  {
   "cell_type": "code",
   "execution_count": null,
   "id": "374b0d9e-d202-4450-b3ca-d10c38b21a8b",
   "metadata": {},
   "outputs": [],
   "source": [
    "%%oc -d $node_labels\n",
    "CREATE p= (jim:person {first_name: 'Jim', last_name: 'Doe'})-[:friends]->\n",
    "    (joe:person {first_name: 'Joe', last_name: 'Doe'})\n",
    "RETURN p"
   ]
  },
  {
   "cell_type": "code",
   "execution_count": null,
   "id": "c0c138fe-975a-412c-b6b6-83cae6c03d56",
   "metadata": {},
   "outputs": [],
   "source": [
    "%%oc -d $node_labels\n",
    "MATCH (joe:person {first_name: 'Joe', last_name: 'Doe'})  \n",
    "SET joe.first_name='Joseph'\n",
    "RETURN joe"
   ]
  },
  {
   "cell_type": "code",
   "execution_count": null,
   "id": "aeb29d19-f882-4475-9a2e-922eba304085",
   "metadata": {},
   "outputs": [],
   "source": [
    "%%oc -d $node_labels\n",
    "MATCH (joe:person {first_name: 'Joseph', last_name: 'Doe'})  \n",
    "SET joe += {age: 43}\n",
    "RETURN joe"
   ]
  },
  {
   "cell_type": "code",
   "execution_count": null,
   "id": "a6c84a8f-701a-4e05-aa7a-14ebb186c3dc",
   "metadata": {},
   "outputs": [],
   "source": [
    "%%oc -d $node_labels\n",
    "MATCH (joe:person {first_name: 'Joseph', last_name: 'Doe'})  \n",
    "SET joe.age = null\n",
    "RETURN joe"
   ]
  },
  {
   "cell_type": "code",
   "execution_count": null,
   "id": "37f5c9aa-46fa-4982-80be-5749eacc3792",
   "metadata": {},
   "outputs": [],
   "source": [
    "%%oc -d $node_labels\n",
    "MATCH (n:person {first_name: 'Steve'})\n",
    "DELETE n\n",
    "RETURN n"
   ]
  },
  {
   "cell_type": "code",
   "execution_count": null,
   "id": "1c3a4e71-d86c-42ad-825a-e727d9b4ae6b",
   "metadata": {},
   "outputs": [],
   "source": [
    "%%oc\n",
    "MATCH (n:person {first_name: 'Joseph'})-[r]-()\n",
    "DELETE r\n",
    "RETURN r"
   ]
  },
  {
   "cell_type": "code",
   "execution_count": null,
   "id": "5ce18a81-4871-43b2-a40a-7930c05d57d4",
   "metadata": {},
   "outputs": [],
   "source": [
    "%%oc -d $node_labels\n",
    "MATCH (n:person {first_name: 'John', last_name: 'Doe'})\n",
    "DETACH DELETE n\n",
    "RETURN n"
   ]
  },
  {
   "cell_type": "code",
   "execution_count": null,
   "id": "953018e1-3716-4f09-89e7-1aafff7f039c",
   "metadata": {},
   "outputs": [],
   "source": []
  },
  {
   "cell_type": "code",
   "execution_count": null,
   "id": "7c99545d-532b-46ad-9b27-f2166e0c7f7b",
   "metadata": {},
   "outputs": [],
   "source": []
  }
 ],
 "metadata": {
  "kernelspec": {
   "display_name": "Python 3",
   "language": "python",
   "name": "python3"
  },
  "language_info": {
   "codemirror_mode": {
    "name": "ipython",
    "version": 3
   },
   "file_extension": ".py",
   "mimetype": "text/x-python",
   "name": "python",
   "nbconvert_exporter": "python",
   "pygments_lexer": "ipython3",
   "version": "3.10.8"
  }
 },
 "nbformat": 4,
 "nbformat_minor": 5
}
