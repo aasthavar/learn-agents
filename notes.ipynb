{
 "cells": [
  {
   "cell_type": "markdown",
   "metadata": {},
   "source": [
    "**Agentic Reasoning Design Patters**\n",
    "1. Reasoning -> (robust tech)\n",
    "2. Tool use -> (robust tech)\n",
    "3. Planning -> (emerging tech)\n",
    "4. Multi agent collaboration -> (emerging tech)\n",
    "\n",
    "**Andrew's video**\n",
    "1. Reflection\n",
    "    - multi-agent systems: coder agent + critic agent\n",
    "    - **recommended reading**\n",
    "        - self-refine (Madaan et al. 2023)\n",
    "        - reflexion (Shinn et al. 2023)\n",
    "2. Tool Use\n",
    "    - analysis\n",
    "        - code execution\n",
    "        - wolfram alpha\n",
    "        - bearly code interpreter\n",
    "    - research\n",
    "        - search engine\n",
    "        - web browsing\n",
    "        - wikipedia\n",
    "    - productivity\n",
    "        - email\n",
    "        - calendar\n",
    "        - cloud storage\n",
    "    - images\n",
    "        - image generation\n",
    "        - image captioning\n",
    "        - object detection\n",
    "    - **recommended reading**\n",
    "        - Gorilla (Patil et al. 2023)\n",
    "        - MM-REACT (Yang et al. 203)\n",
    "3. Planning\n",
    "    - **recommended reading**\n",
    "        - Chain-of-Thought Prompting (Wei et al. 2022)\n",
    "        - HuggingGPT (Shen et al. 2023)\n",
    "4. Multiagent collaboration\n",
    "    - **recommended reading**\n",
    "        - communicative agents for software development (Qian et al. 2023)\n",
    "        - AutoGen (Wu et al. 2023)\n",
    "\n",
    "Conclusion\n",
    "- The set of tasks that AI can do will expand dramatically because of agentic workflows\n",
    "- We have to get used to delegating tasks to AI agents and patiently wait for a response\n",
    "- Fast token generation is important. Generating more tokens even from a lower quality LLM can give goog Results.\n",
    "- If you're looking forward to running GPT-5/ Claude 4/ Gemini 2.0 (zero shot) on your application, you might already be able to get similar performance with agentic reasoning on an earlier model.\n"
   ]
  },
  {
   "cell_type": "markdown",
   "metadata": {},
   "source": [
    "**Resources**\n",
    "1. What's next for AI agentic workflows ft. Andrew Ng of AI Fund [YT](https://www.youtube.com/watch?v=sal78ACtGTc)\n",
    "    - there are mentions of papers for each agent design pattern\n"
   ]
  },
  {
   "cell_type": "markdown",
   "metadata": {},
   "source": []
  }
 ],
 "metadata": {
  "language_info": {
   "name": "python"
  }
 },
 "nbformat": 4,
 "nbformat_minor": 2
}
