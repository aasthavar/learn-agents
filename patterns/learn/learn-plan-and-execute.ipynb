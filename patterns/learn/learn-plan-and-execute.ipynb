{
 "cells": [
  {
   "cell_type": "markdown",
   "metadata": {},
   "source": [
    "- https://blog.langchain.dev/planning-agents/\n",
    "- https://blog.langchain.dev/plan-and-execute-agents/\n",
    "- https://arxiv.org/pdf/2305.04091.pdf"
   ]
  }
 ],
 "metadata": {
  "language_info": {
   "name": "python"
  }
 },
 "nbformat": 4,
 "nbformat_minor": 2
}
