{
 "cells": [
  {
   "cell_type": "markdown",
   "metadata": {},
   "source": [
    "### study"
   ]
  },
  {
   "cell_type": "markdown",
   "metadata": {
    "vscode": {
     "languageId": "plaintext"
    }
   },
   "source": [
    "- reflexion is a paradigm that uses **verbal reinforcement** that gets encoded in an agent's memory.\n",
    "- reflexion converts feedback from the environment into linguistic feedback, (like self-reflection) which is inserted into context for an LLM agent in the next episode. This helps the agent rapidly and effectively learn from prior mistakes leading to performance improvements on many advanced tasks.\n",
    "- three distinct models:\n",
    "    - **actor**: generates text+actions. use CoT, ReAct for this.\n",
    "    - **evaluator**: score outputs produced by actor. different rewarding functions are used depending on the task (llm and rule-based heuristics are used for decision-making tasks).\n",
    "    - **self-reflection**: generates verbal reinforcement cues to assist the Actor in self-improvement. uses reward signal + current trajectory + persistent memory.\n",
    "- steps:\n",
    "    - define a task\n",
    "    - generate a trajectory\n",
    "    - evaluate\n",
    "    - perform reflection\n",
    "    - generate the next trajectory\n",
    "\n",
    "![Reflexion](https://www.promptingguide.ai/_next/image?url=%2F_next%2Fstatic%2Fmedia%2Freflexion-examples.7558c279.png&w=3840&q=75)\n",
    "\n",
    "\n",
    "- effective:\n",
    "    - sequential decision making\n",
    "    - reasoning\n",
    "    - programming\n",
    "\n",
    "- limitations:\n",
    "    - reliance on self-evaluation capabilities\n",
    "    - long-term memory constraints\n",
    "    - code generation limitations\n",
    "\n",
    "Sources: https://www.promptingguide.ai/techniques/reflexion"
   ]
  },
  {
   "cell_type": "markdown",
   "metadata": {},
   "source": [
    "- post outlines how to build 3 reflection techniques using LangGraph, including implementations of Reflexion and Language Agent Tree Search\n",
    "    - simple reflection \n",
    "    - reflexion\n",
    "    - language agents tree search\n",
    "\n",
    "- thinking types: **System 1**, **System 2**\n",
    "    - System 1: reactive, instictive\n",
    "    - System 2: methodical, reflective\n",
    "    - what we want : System 2 like behavior\n",
    "    - how: whne applied correctly, reflection can help LLM systems break out of purely System 1 **thinking** patterns and closer to something exhibiting System 2-like behavior.\n",
    "     - https://neurofied.com/wp-content/uploads/2022/05/System-12-White-1.png\n",
    "\n",
    "\n",
    "Sources: \n",
    "- https://blog.langchain.dev/reflection-agents/\n",
    "- https://github.com/langchain-ai/langgraph/blob/main/examples/reflexion/reflexion.ipynb"
   ]
  },
  {
   "cell_type": "markdown",
   "metadata": {},
   "source": [
    "### implement"
   ]
  },
  {
   "cell_type": "markdown",
   "metadata": {},
   "source": [
    "Thoughts:\n",
    "1. trying to learn from https://github.com/noahshinn/reflexion\n",
    "2. actor, evaluator, self-reflection\n",
    "3. write prompts for roles: actor, evaluator, self-reflection\n",
    "4. write output_parsers for above\n",
    "5. execute\n",
    "    - run agent (actor)\n",
    "    - evaluate final_answer from actor using evaluator\n",
    "    - self-reflect with trajectory from actor + eval from evaluator to give relfection\n",
    "    - run agent till the evaluator gives correct answer or n (turns to run this while loop) exhausted\n",
    "\n",
    "reference: https://github.com/aasthavar/reflexion/blob/main/hotpotqa_runs/prompts.py\n",
    "1. cot, cot-reflect\n",
    "2. react, react-reflect"
   ]
  },
  {
   "cell_type": "code",
   "execution_count": 1,
   "metadata": {},
   "outputs": [],
   "source": [
    "%load_ext autoreload\n",
    "%autoreload 2"
   ]
  },
  {
   "cell_type": "code",
   "execution_count": 2,
   "metadata": {},
   "outputs": [
    {
     "name": "stderr",
     "output_type": "stream",
     "text": [
      "__main__ | L:10 | Invoking main_agent\n"
     ]
    }
   ],
   "source": [
    "from utils.reflextion_agent import *\n",
    "\n",
    "import logging\n",
    "logging.basicConfig(\n",
    "    level=logging.INFO,\n",
    "    format=\"%(name)s | L:%(lineno)d | %(message)s\",\n",
    "    force=True\n",
    ")\n",
    "logger = logging.getLogger(__name__)\n",
    "logger.info(\"Invoking main_agent\")"
   ]
  },
  {
   "cell_type": "code",
   "execution_count": 3,
   "metadata": {},
   "outputs": [],
   "source": [
    "#### test agent\n",
    "# main_agent = get_main_agent()\n",
    "# agent_result = main_agent_executor.invoke({\n",
    "#     \"question\": \"Which character does this protagonist, who secretly loves and marries a member of the rival house, of William Shakespeare's tragedy that has a fictional character Benvolio slay?\",\n",
    "#     \"reflections\": \"\"\n",
    "# })\n",
    "\n",
    "#### test eval\n",
    "# evaluator_agent = get_evaluator_agent()\n",
    "# eval_result = evaluator_agent.invoke({\n",
    "#     # \"answer\": \"Benvolio\", # 0\n",
    "#     # \"answer\": \"Tybalt\", # 1\n",
    "#     \"answer\": \"Juliet\", # 0 # this is a little buggy\n",
    "#     \"question\": \"Which character does this protagonist, who secretly loves and marries a member of the rival house, of William Shakespeare's tragedy that has a fictional character Benvolio slay?\"\n",
    "# })\n",
    "\n",
    "#### test self-reflect\n",
    "# reflect_chain = get_reflexion_chain()\n",
    "# main_agent_scratchpad = get_main_agent_scratchpad(\n",
    "#     intermediate_steps=agent_result[\"intermediate_steps\"], \n",
    "#     final_answer=agent_result[\"output\"]\n",
    "# )\n",
    "# print(main_agent_scratchpad)\n",
    "# reflect_result = self_reflection_chain.invoke({\n",
    "#     \"question\": \"Which character does this protagonist, who secretly loves and marries a member of the rival house, of William Shakespeare's tragedy that has a fictional character Benvolio slay?\",\n",
    "#     \"scratchpad\": main_agent_scratchpad,\n",
    "# })"
   ]
  },
  {
   "cell_type": "code",
   "execution_count": 4,
   "metadata": {},
   "outputs": [
    {
     "name": "stderr",
     "output_type": "stream",
     "text": [
      "__main__ | L:15 | step: 1. Invoking main_agent\n"
     ]
    },
    {
     "name": "stdout",
     "output_type": "stream",
     "text": [
      "\n",
      "\n",
      "\u001b[1m> Entering new AgentExecutor chain...\u001b[0m\n",
      "\u001b[32;1m\u001b[1;3mQuestion: The head of the Foreign Relations Department of the Rastriya Janashakti Party holds a degree that can be abbreviated MS, M.S., or ScM, in what field?\n",
      "Thought: To answer this question, I will need to find information about the head of the Foreign Relations Department of the Rastriya Janashakti Party and their educational background.\n",
      "Action: search-wikipedia\n",
      "Action Input: \"Rastriya Janashakti Party\" \"Foreign Relations Department\"\u001b[0m\u001b[33;1m\u001b[1;3mPage: Hari Bahadur Basnet\n",
      "Summary: Hari Bahadur Basnet is a Nepalese politician. He is the head of the Foreign Relations Department of the Rastriya Janashakti Party. Basnet holds a M.Sc. in Engineering.Basnet entered politics in 1970. Three times he was elected to the Rastriya Panchayat. He joined the Rastriya Prajatantra Party when it was formed, and became a Central Committee member of the party. He also headed the International Relations department of RPP.In 2003, he was appointed Minister of Law, Justice and Parliamentary Affairs, Education and Sports, Industry, Commerce, and Supplies in the cabinet of Surya Bahadur Thapa.\u001b[0m"
     ]
    },
    {
     "name": "stderr",
     "output_type": "stream",
     "text": [
      "__main__ | L:23 | step: 1. Invoking evaluator_agent\n"
     ]
    },
    {
     "name": "stdout",
     "output_type": "stream",
     "text": [
      "\u001b[32;1m\u001b[1;3mBased on the information from Wikipedia, the head of the Foreign Relations Department of the Rastriya Janashakti Party, Hari Bahadur Basnet, holds a M.Sc. degree in Engineering.\n",
      "\n",
      "Final Answer: Hari Bahadur Basnet, the head of the Foreign Relations Department of the Rastriya Janashakti Party, holds a Master of Science (M.Sc.) degree in Engineering.\u001b[0m\n",
      "\n",
      "\u001b[1m> Finished chain.\u001b[0m\n",
      "\n",
      "\n",
      "\u001b[1m> Entering new AgentExecutor chain...\u001b[0m\n",
      "\u001b[32;1m\u001b[1;3mThought: I need to verify the reference answer.\n",
      "Action: wikipedia\n",
      "Action Input: Hari Bahadur Basnet\u001b[0m\u001b[36;1m\u001b[1;3mPage: Hari Bahadur Basnet\n",
      "Summary: Hari Bahadur Basnet is a Nepalese politician. He is the head of the Foreign Relations Department of the Rastriya Janashakti Party. Basnet holds a M.Sc. in Engineering.Basnet entered politics in 1970. Three times he was elected to the Rastriya Panchayat. He joined the Rastriya Prajatantra Party when it was formed, and became a Central Committee member of the party. He also headed the International Relations department of RPP.In 2003, he was appointed Minister of Law, Justice and Parliamentary Affairs, Education and Sports, Industry, Commerce, and Supplies in the cabinet of Surya Bahadur Thapa.\u001b[0m"
     ]
    },
    {
     "name": "stderr",
     "output_type": "stream",
     "text": [
      "__main__ | L:29 | evaluator_result_output: 1\n",
      "__main__ | L:30 | main_agent_final_answer: Hari Bahadur Basnet, the head of the Foreign Relations Department of the Rastriya Janashakti Party, holds a Master of Science (M.Sc.) degree in Engineering.\n",
      "__main__ | L:52 | after while loop exit, main_agent_final_answer: Hari Bahadur Basnet, the head of the Foreign Relations Department of the Rastriya Janashakti Party, holds a Master of Science (M.Sc.) degree in Engineering.\n"
     ]
    },
    {
     "name": "stdout",
     "output_type": "stream",
     "text": [
      "\u001b[32;1m\u001b[1;3mFinal Answer: 1\u001b[0m\n",
      "\n",
      "\u001b[1m> Finished chain.\u001b[0m\n"
     ]
    }
   ],
   "source": [
    "# question = \"Which character does this protagonist, who secretly loves and marries a member of the rival house, of William Shakespeare's tragedy that has a fictional character Benvolio slay?\",\n",
    "# question = \"\"\"The creator of \"Wallace and Gromit\" also created what animation comedy that matched animated zoo animals with a soundtrack of people talking about their homes?\"\"\"\n",
    "question = \"The head of the Foreign Relations Department of the Rastriya Janashakti Party holds a degree that can be abbreviated MS, M.S., or ScM, in what field?\"\n",
    "# question = \"\"\"What is represented on the cover art of the studio album that includes the song \"Speed of Sound\"?\"\"\"\n",
    "\n",
    "\n",
    "reflections = []\n",
    "evaluate_final_answer = 0\n",
    "main_agent_intermediate_steps = \"\"\n",
    "num_of_steps = 1\n",
    "\n",
    "\n",
    "while (evaluate_final_answer!=1) and (num_of_steps<=3):\n",
    "    main_agent = get_main_agent()\n",
    "    logger.info(f\"step: {num_of_steps}. Invoking main_agent\")\n",
    "    main_agent_result = main_agent.invoke({\n",
    "        \"reflections\": format_reflections(reflections),\n",
    "        \"question\": question,\n",
    "    })\n",
    "    \n",
    "    evaluator_agent = get_evaluator_agent()\n",
    "    main_agent_final_answer = main_agent_result[\"output\"]\n",
    "    logger.info(f\"step: {num_of_steps}. Invoking evaluator_agent\")\n",
    "    evaluator_result = evaluator_agent.invoke({\n",
    "        \"answer\": main_agent_final_answer,\n",
    "        \"question\": question,\n",
    "    })\n",
    "    \n",
    "    logger.info(f\"evaluator_result_output: {evaluator_result['output']}\")\n",
    "    logger.info(f\"main_agent_final_answer: {main_agent_final_answer}\")\n",
    "    \n",
    "    evaluate_final_answer = 1 if \"1\" in evaluator_result[\"output\"] else 0\n",
    "    if evaluate_final_answer == 1:\n",
    "        break\n",
    "\n",
    "    reflect_chain = get_reflexion_chain()\n",
    "    main_agent_scratchpad = get_main_agent_scratchpad(\n",
    "        intermediate_steps=main_agent_result[\"intermediate_steps\"], \n",
    "        final_answer=main_agent_result[\"output\"]\n",
    "    )\n",
    "    logger.info(f\"step: {num_of_steps}. Invoking reflect_chain\")\n",
    "    reflect_chain_results = reflect_chain.invoke({\n",
    "        \"question\": question,\n",
    "        \"scratchpad\": main_agent_scratchpad,\n",
    "    })\n",
    "    \n",
    "    reflections.append(reflect_chain_results)\n",
    "    logger.info(f\"reflections: {reflections}\")\n",
    "    \n",
    "    num_of_steps += 1\n",
    "\n",
    "logger.info(f\"after while loop exit, main_agent_final_answer: {main_agent_final_answer}\")"
   ]
  },
  {
   "cell_type": "code",
   "execution_count": 5,
   "metadata": {},
   "outputs": [
    {
     "data": {
      "text/plain": [
       "[]"
      ]
     },
     "execution_count": 5,
     "metadata": {},
     "output_type": "execute_result"
    }
   ],
   "source": [
    "reflections"
   ]
  },
  {
   "cell_type": "markdown",
   "metadata": {},
   "source": [
    "# TODO:\n",
    "- try examples that need atleast 6-7 trials - GSM8K dataset - https://paperswithcode.com/dataset/gsm8k\n",
    "- reflections to be in react style instead of simple paragraph\n",
    "- evaluation can be improved - heuristics or different llm\n",
    "- tools can be expanded\n",
    "- way to eval \n",
    "- compare cot, react"
   ]
  }
 ],
 "metadata": {
  "kernelspec": {
   "display_name": "pytorch",
   "language": "python",
   "name": "python3"
  },
  "language_info": {
   "codemirror_mode": {
    "name": "ipython",
    "version": 3
   },
   "file_extension": ".py",
   "mimetype": "text/x-python",
   "name": "python",
   "nbconvert_exporter": "python",
   "pygments_lexer": "ipython3",
   "version": "3.10.13"
  }
 },
 "nbformat": 4,
 "nbformat_minor": 2
}
