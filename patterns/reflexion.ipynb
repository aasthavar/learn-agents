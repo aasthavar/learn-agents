{
 "cells": [
  {
   "cell_type": "markdown",
   "metadata": {},
   "source": [
    "### study"
   ]
  },
  {
   "cell_type": "markdown",
   "metadata": {
    "vscode": {
     "languageId": "plaintext"
    }
   },
   "source": [
    "- reflexion is a paradigm that uses **verbal reinforcement** that gets encoded in an agent's memory.\n",
    "- reflexion converts feedback from the environment into linguistic feedback, (like self-reflection) which is inserted into context for an LLM agent in the next episode. This helps the agent rapidly and effectively learn from prior mistakes leading to performance improvements on many advanced tasks.\n",
    "- three distinct models:\n",
    "    - **actor**: generates text+actions. use CoT, ReAct for this.\n",
    "    - **evaluator**: score outputs produced by actor. different rewarding functions are used depending on the task (llm and rule-based heuristics are used for decision-making tasks).\n",
    "    - **self-reflection**: generates verbal reinforcement cues to assist the Actor in self-improvement. uses reward signal + current trajectory + persistent memory.\n",
    "- steps:\n",
    "    - define a task\n",
    "    - generate a trajectory\n",
    "    - evaluate\n",
    "    - perform reflection\n",
    "    - generate the next trajectory\n",
    "\n",
    "![Reflexion](https://www.promptingguide.ai/_next/image?url=%2F_next%2Fstatic%2Fmedia%2Freflexion-examples.7558c279.png&w=3840&q=75)\n",
    "\n",
    "\n",
    "- effective:\n",
    "    - sequential decision making\n",
    "    - reasoning\n",
    "    - programming\n",
    "\n",
    "- limitations:\n",
    "    - reliance on self-evaluation capabilities\n",
    "    - long-term memory constraints\n",
    "    - code generation limitations\n",
    "\n",
    "Sources: https://www.promptingguide.ai/techniques/reflexion"
   ]
  },
  {
   "cell_type": "markdown",
   "metadata": {},
   "source": [
    "- post outlines how to build 3 reflection techniques using LangGraph, including implementations of Reflexion and Language Agent Tree Search\n",
    "    - simple reflection \n",
    "    - reflexion\n",
    "    - language agents tree search\n",
    "\n",
    "- thinking types: **System 1**, **System 2**\n",
    "    - System 1: reactive, instictive\n",
    "    - System 2: methodical, reflective\n",
    "    - what we want : System 2 like behavior\n",
    "    - how: whne applied correctly, reflection can help LLM systems break out of purely System 1 **thinking** patterns and closer to something exhibiting System 2-like behavior.\n",
    "     - https://neurofied.com/wp-content/uploads/2022/05/System-12-White-1.png\n",
    "\n",
    "\n",
    "Sources: \n",
    "- https://blog.langchain.dev/reflection-agents/\n",
    "- https://github.com/langchain-ai/langgraph/blob/main/examples/reflexion/reflexion.ipynb"
   ]
  },
  {
   "cell_type": "markdown",
   "metadata": {},
   "source": [
    "### implement"
   ]
  },
  {
   "cell_type": "markdown",
   "metadata": {},
   "source": [
    "Thoughts:\n",
    "1. trying to learn from https://github.com/noahshinn/reflexion\n",
    "2. actor, evaluator, self-reflection\n",
    "3. write prompts for roles: actor, evaluator, self-reflection\n",
    "4. write output_parsers for above\n",
    "5. execute\n",
    "    - run agent (actor)\n",
    "    - evaluate final_answer from actor using evaluator\n",
    "    - self-reflect with trajectory from actor + eval from evaluator to give relfection\n",
    "    - run agent till the evaluator gives correct answer or n (turns to run this while loop) exhausted\n",
    "\n",
    "reference: https://github.com/aasthavar/reflexion/blob/main/hotpotqa_runs/prompts.py\n",
    "1. cot, cot-reflect\n",
    "2. react, react-reflect"
   ]
  },
  {
   "cell_type": "code",
   "execution_count": null,
   "metadata": {},
   "outputs": [],
   "source": [
    "%load_ext autoreload\n",
    "%autoreload 2"
   ]
  },
  {
   "cell_type": "code",
   "execution_count": null,
   "metadata": {},
   "outputs": [],
   "source": [
    "import boto3\n",
    "from langchain_community.chat_models import BedrockChat\n",
    "from langchain.agents import AgentExecutor\n",
    "from langchain.agents.format_scratchpad import format_log_to_str\n",
    "from langchain.agents.output_parsers import ReActSingleInputOutputParser\n",
    "from langchain.memory import ConversationBufferMemory\n",
    "from langchain_core.output_parsers import StrOutputParser\n",
    "from langchain_core.messages import get_buffer_string\n",
    "from utils.reflextion_agent import *\n",
    "\n",
    "import logging\n",
    "logging.basicConfig(\n",
    "    level=logging.INFO,\n",
    "    format=\"%(name)s | L:%(lineno)d | %(message)s\",\n",
    "    force=True\n",
    ")\n",
    "logger = logging.getLogger(__name__)\n",
    "logger.info(\"Invoking main_agent\")"
   ]
  },
  {
   "cell_type": "code",
   "execution_count": null,
   "metadata": {},
   "outputs": [],
   "source": [
    "#### test agent\n",
    "# main_agent = get_main_agent()\n",
    "# agent_result = main_agent_executor.invoke({\n",
    "#     \"question\": \"Which character does this protagonist, who secretly loves and marries a member of the rival house, of William Shakespeare's tragedy that has a fictional character Benvolio slay?\",\n",
    "#     \"reflections\": \"\"\n",
    "# })\n",
    "\n",
    "#### test eval\n",
    "# evaluator_agent = get_evaluator_agent()\n",
    "# eval_result = evaluator_agent.invoke({\n",
    "#     # \"answer\": \"Benvolio\", # 0\n",
    "#     # \"answer\": \"Tybalt\", # 1\n",
    "#     \"answer\": \"Juliet\", # 0 # this is a little buggy\n",
    "#     \"question\": \"Which character does this protagonist, who secretly loves and marries a member of the rival house, of William Shakespeare's tragedy that has a fictional character Benvolio slay?\"\n",
    "# })\n",
    "\n",
    "#### test self-reflect\n",
    "# reflect_chain = get_reflexion_chain()\n",
    "# main_agent_scratchpad = get_main_agent_scratchpad(\n",
    "#     intermediate_steps=agent_result[\"intermediate_steps\"], \n",
    "#     final_answer=agent_result[\"output\"]\n",
    "# )\n",
    "# print(main_agent_scratchpad)\n",
    "# reflect_result = self_reflection_chain.invoke({\n",
    "#     \"question\": \"Which character does this protagonist, who secretly loves and marries a member of the rival house, of William Shakespeare's tragedy that has a fictional character Benvolio slay?\",\n",
    "#     \"scratchpad\": main_agent_scratchpad,\n",
    "# })"
   ]
  },
  {
   "cell_type": "code",
   "execution_count": 15,
   "metadata": {},
   "outputs": [
    {
     "name": "stderr",
     "output_type": "stream",
     "text": [
      "__main__ | L:15 | step: 1. Invoking main_agent\n"
     ]
    },
    {
     "name": "stdout",
     "output_type": "stream",
     "text": [
      "\n",
      "\n",
      "\u001b[1m> Entering new AgentExecutor chain...\u001b[0m\n",
      "\u001b[32;1m\u001b[1;3mQuestion: What is represented on the cover art of the studio album that includes the song \"Speed of Sound\"?\n",
      "Thought: The question is asking about the cover art of a specific album that contains the song \"Speed of Sound\". To answer this, I will need to identify the album and look up information about its cover art.\n",
      "Action: search-wikipedia\n",
      "Action Input: \"Speed of Sound\" song\u001b[0m\u001b[33;1m\u001b[1;3mPage: Speed of Sound (song)\n",
      "Summary: \"Speed of Sound\" is a song by British rock band Coldplay. It was written by all members of the band for their third studio album, X&Y (2005). Constructed around a piano and guitar riff, the song builds into a huge, synthesiser-heavy chorus. It was released by Parlophone Records as the lead single from the album. \"Speed of Sound\" made its radio premiere on BBC Radio 1 with Lamacq on 19 April, then was serviced to US radio on 18 April 2005. The song was released physically in Japan on 11 May with two B-sides: \"Things I Don't Understand\" and \"Proof\". In the United Kingdom, the single was issued on 23 May 2005.\n",
      "Coldplay vocalist Chris Martin admitted that the song was developed after the band had listened to English art rock singer Kate Bush. Upon the song's release, it charted in the UK Singles Chart in the number two position. In the United States, it debuted at number eight on the Billboard Hot 100, their first top ten hit in the country, and their most successful song until \"Viva la Vida\" reached number one in 2008.\n",
      "\"Speed of Sound\" was recognised Song of the Year by the American Society of Composers, Authors and Publishers (ASCAP) and it was nominated twice at the 48th Grammy Awards. The song won a Brit Award in the category for Best British Single in 2006. The track's music video was nominated for four MTV Video Music Awards. \"Speed of Sound\" was also notable as the billionth download from the iTunes Store.\u001b[0m\u001b[32;1m\u001b[1;3mThought: The Wikipedia page provides helpful information about the song \"Speed of Sound\" by Coldplay, including that it was the lead single from their 2005 album X&Y. However, it does not directly answer what is depicted on the album cover art. To find that information, I should search more specifically about the X&Y album cover.\n",
      "\n",
      "Action: search-wikipedia\n",
      "Action Input: \"X&Y album cover art\"\n",
      "\u001b[0m\u001b[33;1m\u001b[1;3mPage: X&Y\n",
      "Summary: X&Y is the third studio album by British rock band Coldplay. It was released on 6 June 2005 by Parlophone in the United Kingdom, and a day later by Capitol Records in the United States. The album was produced by Coldplay and producer Danton Supple. It is noted for its troubled and urgent development, as well as manager and creative director Phil Harvey's brief departure from the band. Producer Ken Nelson was originally tasked with producing the record; however, many songs written during his sessions were discarded due to the band's dissatisfaction with them. The album's cover art combines colours and blocks to represent the title in Baudot code.\n",
      "The album contains twelve tracks and an additional hidden song, \"Til Kingdom Come\", which is listed as \"+\" on the disc label and inside the record's booklet. It was originally planned for American country star Johnny Cash to record it with lead singer Chris Martin, but Cash died before he was able to do so. The song \"Talk\" appeared in the track listing, although after it leaked online in early 2005, it was thought to have been downgraded to a B-side for the album's subsequent single releases.X&Y was released after a considerable amount of global anticipation. Overall reaction to the album was generally positive. Furthermore, it was a significant commercial success, reaching the number-one position in the charts of 32 countries around the world, including the United Kingdom (where it had the third biggest sales week in history at the time) and the United States (where it became Coldplay's first album to top the Billboard 200 chart). With 8.3 million copies sold worldwide, X&Y was the best-selling album of 2005, accumulating over 13 million units as of December 2012. It spawned the singles \"Speed of Sound\", \"Fix You\", \"Talk\" and \"The Hardest Part\".\u001b[0m"
     ]
    },
    {
     "name": "stderr",
     "output_type": "stream",
     "text": [
      "__main__ | L:23 | step: 1. Invoking evaluator_agent\n"
     ]
    },
    {
     "name": "stdout",
     "output_type": "stream",
     "text": [
      "\u001b[32;1m\u001b[1;3mThought: The Wikipedia page for the X&Y album provides the key information needed to answer the question. It states that the album cover art \"combines colours and blocks to represent the title in Baudot code.\"\n",
      "\n",
      "Final Answer: The cover art of Coldplay's 2005 album X&Y, which includes the song \"Speed of Sound\", represents the album title in Baudot code using colors and blocks.\u001b[0m\n",
      "\n",
      "\u001b[1m> Finished chain.\u001b[0m\n",
      "\n",
      "\n",
      "\u001b[1m> Entering new AgentExecutor chain...\u001b[0m\n",
      "\u001b[32;1m\u001b[1;3mThought: I need more information to verify the reference answer.\n",
      "Action: wikipedia\n",
      "Action Input: Coldplay X&Y album cover\u001b[0m\u001b[36;1m\u001b[1;3mPage: X&Y\n",
      "Summary: X&Y is the third studio album by British rock band Coldplay. It was released on 6 June 2005 by Parlophone in the United Kingdom, and a day later by Capitol Records in the United States. The album was produced by Coldplay and producer Danton Supple. It is noted for its troubled and urgent development, as well as manager and creative director Phil Harvey's brief departure from the band. Producer Ken Nelson was originally tasked with producing the record; however, many songs written during his sessions were discarded due to the band's dissatisfaction with them. The album's cover art combines colours and blocks to represent the title in Baudot code.\n",
      "The album contains twelve tracks and an additional hidden song, \"Til Kingdom Come\", which is listed as \"+\" on the disc label and inside the record's booklet. It was originally planned for American country star Johnny Cash to record it with lead singer Chris Martin, but Cash died before he was able to do so. The song \"Talk\" appeared in the track listing, although after it leaked online in early 2005, it was thought to have been downgraded to a B-side for the album's subsequent single releases.X&Y was released after a considerable amount of global anticipation. Overall reaction to the album was generally positive. Furthermore, it was a significant commercial success, reaching the number-one position in the charts of 32 countries around the world, including the United Kingdom (where it had the third biggest sales week in history at the time) and the United States (where it became Coldplay's first album to top the Billboard 200 chart). With 8.3 million copies sold worldwide, X&Y was the best-selling album of 2005, accumulating over 13 million units as of December 2012. It spawned the singles \"Speed of Sound\", \"Fix You\", \"Talk\" and \"The Hardest Part\".\u001b[0m"
     ]
    },
    {
     "name": "stderr",
     "output_type": "stream",
     "text": [
      "__main__ | L:29 | evaluator_result_output: 1\n",
      "__main__ | L:30 | main_agent_final_answer: The cover art of Coldplay's 2005 album X&Y, which includes the song \"Speed of Sound\", represents the album title in Baudot code using colors and blocks.\n",
      "__main__ | L:52 | after while loop exit, main_agent_final_answer: The cover art of Coldplay's 2005 album X&Y, which includes the song \"Speed of Sound\", represents the album title in Baudot code using colors and blocks.\n"
     ]
    },
    {
     "name": "stdout",
     "output_type": "stream",
     "text": [
      "\u001b[32;1m\u001b[1;3mFinal Answer: 1\u001b[0m\n",
      "\n",
      "\u001b[1m> Finished chain.\u001b[0m\n"
     ]
    }
   ],
   "source": [
    "# question = \"Which character does this protagonist, who secretly loves and marries a member of the rival house, of William Shakespeare's tragedy that has a fictional character Benvolio slay?\",\n",
    "# question = \"\"\"The creator of \"Wallace and Gromit\" also created what animation comedy that matched animated zoo animals with a soundtrack of people talking about their homes?\"\"\"\n",
    "# question = \"The head of the Foreign Relations Department of the Rastriya Janashakti Party holds a degree that can be abbreviated MS, M.S., or ScM, in what field?\"\n",
    "# question = \"\"\"What is represented on the cover art of the studio album that includes the song \"Speed of Sound\"?\"\"\"\n",
    "\n",
    "\n",
    "reflections = []\n",
    "evaluate_final_answer = 0\n",
    "main_agent_intermediate_steps = \"\"\n",
    "num_of_steps = 1\n",
    "\n",
    "\n",
    "while (evaluate_final_answer!=1) and (num_of_steps<=3):\n",
    "    main_agent = get_main_agent()\n",
    "    logger.info(f\"step: {num_of_steps}. Invoking main_agent\")\n",
    "    main_agent_result = main_agent.invoke({\n",
    "        \"reflections\": format_reflections(reflections),\n",
    "        \"question\": question,\n",
    "    })\n",
    "    \n",
    "    evaluator_agent = get_evaluator_agent()\n",
    "    main_agent_final_answer = main_agent_result[\"output\"]\n",
    "    logger.info(f\"step: {num_of_steps}. Invoking evaluator_agent\")\n",
    "    evaluator_result = evaluator_agent.invoke({\n",
    "        \"answer\": main_agent_final_answer,\n",
    "        \"question\": question,\n",
    "    })\n",
    "    \n",
    "    logger.info(f\"evaluator_result_output: {evaluator_result['output']}\")\n",
    "    logger.info(f\"main_agent_final_answer: {main_agent_final_answer}\")\n",
    "    \n",
    "    evaluate_final_answer = 1 if \"1\" in evaluator_result[\"output\"] else 0\n",
    "    if evaluate_final_answer == 1:\n",
    "        break\n",
    "\n",
    "    reflect_chain = get_reflexion_chain()\n",
    "    main_agent_scratchpad = get_main_agent_scratchpad(\n",
    "        intermediate_steps=main_agent_result[\"intermediate_steps\"], \n",
    "        final_answer=main_agent_result[\"output\"]\n",
    "    )\n",
    "    logger.info(f\"step: {num_of_steps}. Invoking reflect_chain\")\n",
    "    reflect_chain_results = reflect_chain.invoke({\n",
    "        \"question\": question,\n",
    "        \"scratchpad\": main_agent_scratchpad,\n",
    "    })\n",
    "    \n",
    "    reflections.append(reflect_chain_results)\n",
    "    logger.info(f\"reflections: {reflections}\")\n",
    "    \n",
    "    num_of_steps += 1\n",
    "\n",
    "logger.info(f\"after while loop exit, main_agent_final_answer: {main_agent_final_answer}\")"
   ]
  }
 ],
 "metadata": {
  "kernelspec": {
   "display_name": "pytorch",
   "language": "python",
   "name": "python3"
  },
  "language_info": {
   "codemirror_mode": {
    "name": "ipython",
    "version": 3
   },
   "file_extension": ".py",
   "mimetype": "text/x-python",
   "name": "python",
   "nbconvert_exporter": "python",
   "pygments_lexer": "ipython3",
   "version": "3.10.13"
  }
 },
 "nbformat": 4,
 "nbformat_minor": 2
}
